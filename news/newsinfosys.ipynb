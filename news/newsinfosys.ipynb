{
  "nbformat": 4,
  "nbformat_minor": 0,
  "metadata": {
    "colab": {
      "name": "Untitled2.ipynb",
      "version": "0.3.2",
      "views": {},
      "default_view": {},
      "provenance": [],
      "collapsed_sections": [],
      "toc_visible": true
    },
    "kernelspec": {
      "name": "python3",
      "display_name": "Python 3"
    }
  },
  "cells": [
    {
      "metadata": {
        "id": "W4lTHnHkY4pJ",
        "colab_type": "code",
        "colab": {
          "autoexec": {
            "startup": false,
            "wait_interval": 0
          },
          "output_extras": [
            {
              "item_id": 1
            }
          ],
          "base_uri": "https://localhost:8080/",
          "height": 34
        },
        "outputId": "2fa649e5-ff1c-42c6-d6e6-dbe7ce409430",
        "executionInfo": {
          "status": "ok",
          "timestamp": 1521314220495,
          "user_tz": -330,
          "elapsed": 4734,
          "user": {
            "displayName": "Rajeevkumar Yadav",
            "photoUrl": "//lh3.googleusercontent.com/-GNHZqzjwUgA/AAAAAAAAAAI/AAAAAAAAD7M/PpefmHYb0HI/s50-c-k-no/photo.jpg",
            "userId": "103793841481824356030"
          }
        }
      },
      "cell_type": "code",
      "source": [
        "# https://keras.io/\n",
        "!pip install -q keras\n",
        "import keras"
      ],
      "execution_count": 1,
      "outputs": [
        {
          "output_type": "stream",
          "text": [
            "Using TensorFlow backend.\n"
          ],
          "name": "stderr"
        }
      ]
    },
    {
      "metadata": {
        "id": "wLAnqxihZOAo",
        "colab_type": "code",
        "colab": {
          "autoexec": {
            "startup": false,
            "wait_interval": 0
          }
        }
      },
      "cell_type": "code",
      "source": [
        "import pandas as pd\n",
        "import numpy as np\n",
        "import tensorflow as tf\n",
        "import re\n",
        "from nltk.corpus import stopwords\n",
        "from sklearn.model_selection import train_test_split\n",
        "from sklearn.metrics import median_absolute_error as mae\n",
        "from sklearn.metrics import mean_squared_error as mse\n",
        "from sklearn.metrics import accuracy_score as acc\n",
        "import matplotlib.pyplot as plt\n",
        "from keras.models import Sequential\n",
        "from keras import initializers\n",
        "from keras.layers import Dropout, Activation, Embedding, Convolution1D, MaxPooling1D, Input, Dense, Merge,BatchNormalization, Flatten, Reshape, Concatenate\n",
        "from keras.layers.recurrent import LSTM, GRU\n",
        "from keras.callbacks import Callback, ModelCheckpoint, EarlyStopping, ReduceLROnPlateau\n",
        "from keras.models import Model\n",
        "from keras.optimizers import Adam, SGD, RMSprop\n",
        "from keras import regularizers\n",
        "from nltk.stem.porter import PorterStemmer"
      ],
      "execution_count": 0,
      "outputs": []
    },
    {
      "metadata": {
        "id": "3jJi9hRBZwc4",
        "colab_type": "code",
        "colab": {
          "autoexec": {
            "startup": false,
            "wait_interval": 0
          }
        }
      },
      "cell_type": "code",
      "source": [
        "stemmer = PorterStemmer()\n",
        "\n",
        "\n",
        "\n",
        "# Need to use 300 for embedding dimensions to match GloVe's vectors.\n",
        "embedding_dim = 300\n",
        "\n",
        "nb_words = 3873\n",
        "max_daily_length=200"
      ],
      "execution_count": 0,
      "outputs": []
    },
    {
      "metadata": {
        "id": "2zusP4GuZ5Ru",
        "colab_type": "code",
        "colab": {
          "autoexec": {
            "startup": false,
            "wait_interval": 0
          },
          "output_extras": [
            {
              "item_id": 1
            },
            {
              "item_id": 3
            }
          ],
          "resources": {
            "http://localhost:8080/nbextensions/google.colab/files.js": {
              "data": "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",
              "ok": true,
              "headers": [
                [
                  "content-type",
                  "application/javascript"
                ]
              ],
              "status": 200,
              "status_text": ""
            }
          },
          "base_uri": "https://localhost:8080/",
          "height": 89
        },
        "outputId": "12da88bd-e4e5-41dd-b1e1-5ba1b6689f3c",
        "executionInfo": {
          "status": "ok",
          "timestamp": 1521316139298,
          "user_tz": -330,
          "elapsed": 388601,
          "user": {
            "displayName": "Rajeevkumar Yadav",
            "photoUrl": "//lh3.googleusercontent.com/-GNHZqzjwUgA/AAAAAAAAAAI/AAAAAAAAD7M/PpefmHYb0HI/s50-c-k-no/photo.jpg",
            "userId": "103793841481824356030"
          }
        }
      },
      "cell_type": "code",
      "source": [
        "from google.colab import files\n",
        "\n",
        "uploaded = files.upload()\n",
        "\n",
        "for fn in uploaded.keys():\n",
        "  print('User uploaded file \"{name}\" with length {length} bytes'.format(\n",
        "      name=fn, length=len(uploaded[fn])))"
      ],
      "execution_count": 31,
      "outputs": [
        {
          "output_type": "display_data",
          "data": {
            "text/html": [
              "\n",
              "     <input type=\"file\" id=\"files-3820de2a-6aa1-430b-b70d-f3249737bbaa\" name=\"files[]\" multiple disabled />\n",
              "     <output id=\"result-3820de2a-6aa1-430b-b70d-f3249737bbaa\">\n",
              "      Upload widget is only available when the cell has been executed in the\n",
              "      current browser session. Please rerun this cell to enable.\n",
              "      </output>\n",
              "      <script src=\"/nbextensions/google.colab/files.js\"></script> "
            ],
            "text/plain": [
              "<IPython.core.display.HTML object>"
            ]
          },
          "metadata": {
            "tags": []
          }
        },
        {
          "output_type": "stream",
          "text": [
            "Saving word_embedding_matrix.csv to word_embedding_matrix (1).csv\n",
            "User uploaded file \"word_embedding_matrix.csv\" with length 23375870 bytes\n"
          ],
          "name": "stdout"
        }
      ]
    },
    {
      "metadata": {
        "id": "vj-cRo5ZcVs3",
        "colab_type": "code",
        "colab": {
          "autoexec": {
            "startup": false,
            "wait_interval": 0
          }
        }
      },
      "cell_type": "code",
      "source": [
        "import pandas as pd\n",
        "import io\n",
        "word_embedding_matrix= pd.read_csv(io.StringIO(uploaded['word_embedding_matrix.csv'].decode('utf-8')))"
      ],
      "execution_count": 0,
      "outputs": []
    },
    {
      "metadata": {
        "id": "BK1YYBs_gn0g",
        "colab_type": "code",
        "colab": {
          "autoexec": {
            "startup": false,
            "wait_interval": 0
          },
          "output_extras": [
            {
              "item_id": 1
            }
          ],
          "base_uri": "https://localhost:8080/",
          "height": 3247
        },
        "outputId": "e8047b81-9539-43ed-f429-15a7f51eb640",
        "executionInfo": {
          "status": "ok",
          "timestamp": 1521316211377,
          "user_tz": -330,
          "elapsed": 1030,
          "user": {
            "displayName": "Rajeevkumar Yadav",
            "photoUrl": "//lh3.googleusercontent.com/-GNHZqzjwUgA/AAAAAAAAAAI/AAAAAAAAD7M/PpefmHYb0HI/s50-c-k-no/photo.jpg",
            "userId": "103793841481824356030"
          }
        }
      },
      "cell_type": "code",
      "source": [
        "print(word_embedding_matrix)"
      ],
      "execution_count": 33,
      "outputs": [
        {
          "output_type": "stream",
          "text": [
            "             0         1         2         3         4         5         6  \\\n",
            "0    -0.111920 -0.123580 -0.133040  0.229700  0.382090 -0.392810 -0.474310   \n",
            "1    -0.034824  0.018151  0.614520 -0.325730  0.098664  0.068916 -0.190860   \n",
            "2    -0.146800  0.237930  0.340450  0.156800  0.540400 -0.373380 -0.028184   \n",
            "3    -0.145230  0.778690  0.493820 -0.349520  0.427330  0.404690 -0.555630   \n",
            "4     0.071062  0.848090  1.415800 -0.328460  0.443230 -0.067387 -0.227620   \n",
            "5     0.100640 -0.176980  0.189390  0.398780  0.416290 -0.041217  0.495000   \n",
            "6    -0.388190  0.456810  0.419410  0.307420  0.588540  0.115760 -0.040097   \n",
            "7    -0.350250  0.102640  0.347510 -0.108940 -0.059054  0.144930  0.936800   \n",
            "8    -0.478600 -0.052255  0.505240  0.316580  0.220740  0.018776 -0.009640   \n",
            "9    -0.218110 -0.326090  0.489990  0.415180  0.614790 -0.151960 -0.125020   \n",
            "10   -0.321890 -0.050835 -0.299460 -0.398530  0.121740  0.154430 -0.065255   \n",
            "11    0.261510 -0.273070 -0.187360 -0.047141  0.155560  0.315310  0.401070   \n",
            "12    0.437850  0.295520  0.482790 -0.356630  0.160750  0.390530 -0.412920   \n",
            "13   -0.406760 -0.432210  0.032900 -0.298620 -0.133070 -0.042676 -0.446550   \n",
            "14   -0.059908  0.244030  0.007455  0.111400 -0.024110 -0.573790 -0.105140   \n",
            "15    0.420850  0.095779  0.842440 -0.000024  0.504440 -0.585670 -0.244510   \n",
            "16   -0.042501  0.090773 -0.119180  0.123720 -0.193020 -0.162020 -0.130180   \n",
            "17    0.073654  0.669190 -0.432990  0.339890  0.471000 -0.048759  0.309960   \n",
            "18   -0.570950  0.261360 -0.135880  0.141900  0.457820  0.174710  0.288820   \n",
            "19   -0.695810  0.738300  0.313150 -0.241940 -0.318920 -0.118490 -0.108460   \n",
            "20   -0.339170  0.642570  0.464460 -0.038610  0.348960 -0.247770  0.238790   \n",
            "21    0.110360  0.415970  1.010100 -0.271070  0.124220  0.401390 -0.250950   \n",
            "22   -0.494150  0.351360  0.025466  0.012338 -0.044274 -0.223790  0.420940   \n",
            "23   -0.530230  0.123310  0.281480  0.205040 -0.287170  0.183900 -0.131030   \n",
            "24   -0.750730  0.081650  0.090288 -0.347190 -0.605980 -0.026782 -0.176440   \n",
            "25    0.221900  0.295970  0.715190 -0.094769  0.112420  0.417230 -0.557370   \n",
            "26   -0.414090  0.461300  0.159500 -0.132780 -0.046380 -0.313320 -0.224330   \n",
            "27   -1.522000  0.310110  0.174510 -0.168830 -0.382580  0.366010  0.484550   \n",
            "28   -0.181680 -0.241030  0.021059 -0.023930  0.082636 -0.051396  0.114540   \n",
            "29   -0.641520  0.261960 -0.135980  0.381020 -0.449460  0.089377 -0.420430   \n",
            "...        ...       ...       ...       ...       ...       ...       ...   \n",
            "3843  0.010474  0.745350 -0.127220  0.431270  0.217340 -0.242010  0.018189   \n",
            "3844 -0.254540 -0.436200  0.302380 -0.295750  0.251880  0.324950  0.318780   \n",
            "3845  0.037603  0.344440  0.189990  0.481460 -0.145840 -0.133930 -0.244230   \n",
            "3846 -0.197040  0.295350 -0.062204 -0.352560  0.201270 -0.035549  0.016898   \n",
            "3847 -0.172080  0.443690 -0.580520 -0.708330  0.313120 -1.023500 -0.054441   \n",
            "3848  0.111320 -0.316650  0.219820  0.058571  0.171410  0.882630  0.129480   \n",
            "3849  0.262170 -0.237900 -0.144540  0.203450  0.205010 -0.411700 -0.347420   \n",
            "3850 -0.102890  0.958860  0.578190  0.112020  0.204200  0.631700 -0.027077   \n",
            "3851 -0.227310  0.288050  0.128700  0.401570 -0.143900  0.186880 -0.339460   \n",
            "3852  0.251100  0.325280  0.608440  0.219980  0.078631  0.357420  0.084014   \n",
            "3853 -0.086712  0.424480  0.611950 -0.189400 -0.160350  0.837020  0.067107   \n",
            "3854 -0.179040  0.570510 -0.188260 -0.330900  0.534640 -0.247340  0.581800   \n",
            "3855  0.045974  0.017064  0.914840 -0.627440  0.251790  0.180980 -0.272590   \n",
            "3856  0.216780 -0.152360  0.224430 -0.473910 -0.255380  0.349480 -0.304000   \n",
            "3857  0.552460  0.204850  0.014492 -0.272880  0.318850  0.251250 -0.179170   \n",
            "3858 -0.079259  0.173340  0.204870  0.635330  0.213600  0.661590  0.180800   \n",
            "3859  0.696780  0.376060 -0.195810 -0.321430 -0.151090 -0.167500 -0.519580   \n",
            "3860 -0.202210  0.563480  0.870170  0.391220  0.235130 -0.074613 -0.260880   \n",
            "3861 -0.187510  0.395020  0.603650 -0.306950 -0.066755 -0.529100 -0.541680   \n",
            "3862 -0.292690  0.181730 -0.000042 -0.429580  0.236680 -0.281570 -0.224500   \n",
            "3863  0.056083 -0.294250 -0.058019 -0.277460 -0.144290 -0.086191  0.297490   \n",
            "3864  0.066216 -0.467100 -0.081301  0.790760  0.093750 -0.743140 -0.279370   \n",
            "3865 -0.639090 -0.407540  0.491830 -0.350790 -0.044711 -0.107350 -0.322240   \n",
            "3866 -0.540030  0.375660  0.388920  0.289490 -0.459980  0.339620 -0.061477   \n",
            "3867 -0.317240  0.173590  0.231930 -0.082510 -0.164390  0.241740  0.445720   \n",
            "3868 -0.540060  0.146030  0.101580  0.492620 -0.037828 -0.037771  0.250300   \n",
            "3869 -0.260080  0.517900  0.322510  0.151570  0.161260 -0.113310  0.514630   \n",
            "3870  0.678610  0.036713  0.037851 -0.130750  0.618520 -0.085699 -0.152040   \n",
            "3871 -0.108219  0.566367 -0.173040 -0.891412 -0.592104 -0.055089 -0.393863   \n",
            "3872 -0.817013 -0.326847  0.246213  0.836865 -0.408332 -0.881781 -0.727816   \n",
            "\n",
            "             7         8         9    ...          290       291       292  \\\n",
            "0     0.147380  0.152390  2.416300    ...    -0.087734  0.454290 -0.037143   \n",
            "1     0.080837  0.178210 -1.029700    ...     0.131250 -0.136440  0.105160   \n",
            "2    -0.202530 -0.310270  0.915270    ...    -0.738780 -0.180440  0.507090   \n",
            "3     0.340600  0.230070 -1.359700    ...     0.402170 -0.072336 -0.846670   \n",
            "4    -0.625890  0.309060 -1.249000    ...    -0.052872 -0.616590 -0.023573   \n",
            "5    -0.211190  0.007154 -1.460900    ...     0.104060 -0.006532 -0.309970   \n",
            "6     0.672570 -0.272820  2.145100    ...    -0.219710  0.918730  0.208490   \n",
            "7    -0.038277  0.514360  0.150810    ...    -0.046250 -0.119460 -0.466150   \n",
            "8    -0.132960  0.355510 -0.369330    ...     0.180460 -0.114480 -0.592140   \n",
            "9    -0.538690  0.336320  0.838620    ...     0.352010  0.600490 -0.629080   \n",
            "10    0.086873 -0.248160  2.493500    ...    -0.541660  0.170180  0.092670   \n",
            "11   -0.018691 -0.395070 -0.220970    ...    -0.500200 -0.379710 -0.206590   \n",
            "12    0.208180 -0.240920 -0.642740    ...     0.248370  0.351330 -0.208120   \n",
            "13    0.208260  0.286910 -0.269160    ...     0.005116 -0.224560 -0.099324   \n",
            "14    0.590130 -0.139940  1.262900    ...    -0.504010 -0.009245  0.173350   \n",
            "15    0.259610  0.218330  1.926300    ...    -0.013423  0.132070  0.411640   \n",
            "16   -0.300500 -0.205990  2.740000    ...    -0.504890  0.368980 -0.397370   \n",
            "17    0.052575  0.108560  2.006900    ...     0.323170  0.357040 -0.512940   \n",
            "18    0.134760 -0.071545 -1.701400    ...    -0.575300  0.091144 -0.304020   \n",
            "19    0.205020  0.547770  2.335600    ...    -0.876510 -0.045098  0.252210   \n",
            "20    0.738850  0.503030  1.817300    ...    -0.380770  1.089800  0.194410   \n",
            "21    0.086212  0.399040 -0.207490    ...    -0.112220  0.300900 -0.147390   \n",
            "22   -0.079633 -0.460490 -0.157160    ...     0.318150 -0.098715  0.096528   \n",
            "23    0.004392 -0.305410  1.553300    ...    -0.333550  0.331780 -0.270860   \n",
            "24   -0.459730  0.485860  2.912000    ...    -0.629920 -0.034711  0.096065   \n",
            "25    0.284030  0.207580 -0.397230    ...    -0.073872  0.027495 -0.190630   \n",
            "26   -0.049539  0.583040  0.552150    ...     0.111550  0.101820 -0.154150   \n",
            "27   -0.765470  0.383300  1.711100    ...    -0.705450  0.366480  0.189230   \n",
            "28    0.076705  0.175740  2.472600    ...    -0.326630  0.058323 -0.051285   \n",
            "29    0.380980 -0.153820  2.091500    ...    -0.081397  0.158900 -0.193310   \n",
            "...        ...       ...       ...    ...          ...       ...       ...   \n",
            "3843 -0.202510  0.090141 -1.525800    ...    -0.744680  0.120800 -0.444190   \n",
            "3844 -0.496560  0.330200 -0.250210    ...     0.442890 -0.407660 -0.300660   \n",
            "3845  0.349900  0.199780  1.376100    ...    -0.123390  0.618170  0.345500   \n",
            "3846 -0.144100  0.420640  0.101400    ...    -0.605590  0.223200  0.222360   \n",
            "3847  0.158670  0.022085 -0.144100    ...     0.110290  0.461760  0.206320   \n",
            "3848  0.211920 -0.484060 -1.426900    ...    -0.050862  0.776980 -0.036460   \n",
            "3849 -0.133850  0.162050  2.134000    ...    -0.249870  0.133510 -0.171430   \n",
            "3850 -1.105200  0.222540 -1.089300    ...     0.553060 -0.216440 -0.136770   \n",
            "3851  0.240360  0.010427  2.621300    ...    -0.163030  0.165490 -0.105920   \n",
            "3852  0.250920 -0.141840  0.935240    ...     0.150190  0.296840 -0.412710   \n",
            "3853 -0.354540  0.385650 -1.345800    ...     0.768190 -1.061400 -0.266590   \n",
            "3854 -0.510940  0.544080  3.190500    ...    -0.576330  0.140200 -0.284840   \n",
            "3855  0.252090 -0.111880  1.209400    ...    -0.018366  0.050869  0.026736   \n",
            "3856 -0.112880 -0.183780  0.800950    ...     0.067628 -0.333760 -0.275850   \n",
            "3857 -0.182130  0.524860 -0.604780    ...     0.462280  0.264900 -0.107320   \n",
            "3858 -0.394750 -0.230580 -1.133600    ...     0.267300  0.724840  0.032813   \n",
            "3859  0.452290  0.288190 -0.819500    ...     0.492330  0.104160 -0.248020   \n",
            "3860  0.643430  0.334810  1.497500    ...    -0.312750  0.142920  0.127880   \n",
            "3861 -0.065815  0.471170  0.069446    ...     0.310460  0.346570  0.161910   \n",
            "3862  0.707950  0.078362  1.748000    ...    -0.426980  0.342570 -0.242100   \n",
            "3863 -0.393450 -0.029746  2.510300    ...    -0.322110 -0.193570  0.087506   \n",
            "3864  0.087121 -0.297210  1.842100    ...     0.219150  0.099109  0.518600   \n",
            "3865 -0.386420  0.430750 -0.161360    ...     0.890150  0.306450 -0.547680   \n",
            "3866 -0.072072  0.342720  1.225300    ...    -0.140180  0.490020 -0.098509   \n",
            "3867  0.099844 -0.120240  1.246100    ...    -0.099064  0.643070 -0.101480   \n",
            "3868  0.221580  0.499650  1.440100    ...     0.093691 -0.096618  0.586350   \n",
            "3869 -0.457620  0.028415  3.478600    ...     0.152570 -0.219300  0.338120   \n",
            "3870  0.220040 -0.166020 -1.160500    ...    -0.594180 -0.612460 -0.042146   \n",
            "3871 -0.548000  0.790405 -0.522053    ...    -0.776082  0.063736 -0.751848   \n",
            "3872 -0.191810 -0.658823  0.119022    ...    -0.932483  0.714908  0.115752   \n",
            "\n",
            "           293       294       295       296       297       298       299  \n",
            "0    -0.625590 -0.100060  0.105650 -0.107580 -0.289580  0.311940 -0.148210  \n",
            "1    -0.057662 -0.359500 -0.276720 -0.325280  1.439200 -0.105590  0.352510  \n",
            "2     0.369070 -0.519870 -0.178020  0.008285  0.537790  0.008846  0.319520  \n",
            "3    -0.540810 -0.081627 -0.093996  0.110590  0.731720 -0.526650  0.097944  \n",
            "4    -0.060211 -0.643470 -0.460400  0.298960  0.646990 -0.223280  0.326110  \n",
            "5     0.626280 -0.108350 -0.092693 -0.054369 -0.033833  0.286790 -0.137210  \n",
            "6     0.080988 -0.229860 -0.150160 -0.296380 -0.018675 -0.564930  0.429710  \n",
            "7     0.452580  0.356550 -0.230540 -0.078165  0.705250 -0.203660  0.801110  \n",
            "8     0.087555 -0.114110 -0.015045 -1.062100  0.513900  0.377460 -0.158790  \n",
            "9     0.168500  0.075822  0.517170  0.021939  0.130980 -0.346980 -0.296840  \n",
            "10   -0.121930 -0.100560  0.219510 -0.199150 -0.075176  0.357150  0.151200  \n",
            "11   -0.507780  0.192390 -0.535360  0.208350  0.487240 -0.424820 -0.173880  \n",
            "12   -0.111950 -0.302600  0.474220 -0.035632  0.130980  0.013016 -0.343320  \n",
            "13   -0.173400  0.179600  0.446260 -0.010001  0.236220 -0.248060  0.219490  \n",
            "14    0.092107 -0.459450 -0.241030 -0.018762  0.074835  0.339060 -0.132860  \n",
            "15   -0.057904 -0.037336  0.271540 -0.095416 -0.368690  0.258330 -0.484220  \n",
            "16   -0.192120  0.254850  0.108880 -0.326820 -0.560680  0.191770 -0.029525  \n",
            "17    0.003866  0.543420 -0.249060 -0.161920 -0.221730  0.117220 -0.078180  \n",
            "18   -0.247580  0.038297 -0.715150 -0.265400  0.334770  0.323480  0.361560  \n",
            "19    0.368590 -0.218230 -0.590740 -0.372430 -0.638980  0.560070 -0.069214  \n",
            "20    0.120450  0.111800 -0.988680 -1.018100 -0.360230  0.075981 -0.321080  \n",
            "21    0.131730  0.230200  0.066421 -0.415800  0.165060 -0.387260  0.226100  \n",
            "22    0.268010 -0.285820 -0.340930  0.353040 -0.038480 -0.075036 -0.065697  \n",
            "23    0.260390  0.058250  0.088957  0.108720  0.340200 -0.276980  0.194670  \n",
            "24   -0.162320  0.278560  0.049664  0.093182 -0.250060  0.035672  0.450650  \n",
            "25    0.010942 -0.229250  0.152360 -0.080569  0.379980 -0.052621  0.044143  \n",
            "26   -0.001664 -0.137460 -0.072828 -0.098884 -0.257330  0.113760 -0.045221  \n",
            "27    0.030548  0.471670  0.080713  0.006727  0.215320  0.268680  0.658620  \n",
            "28    0.314050 -0.081840  0.232430  0.349130 -0.047643  0.103780  0.082845  \n",
            "29   -0.076792  0.182550  0.239730 -0.374180 -0.219600  0.549960  0.322450  \n",
            "...        ...       ...       ...       ...       ...       ...       ...  \n",
            "3843 -0.692570 -0.006814  0.433480 -0.221950 -0.384000 -0.425240  0.120980  \n",
            "3844 -0.077259  0.091734 -0.466290 -0.180620 -0.022083 -0.231550  0.309020  \n",
            "3845 -0.061615 -0.008865  0.494340  0.028688  0.743520  0.075960 -0.164960  \n",
            "3846 -0.110520  0.374260  0.229850  0.257860  0.648320 -0.059713  0.785240  \n",
            "3847 -0.424350  0.141090  0.075704  0.353330  0.092808  0.229170  0.347540  \n",
            "3848  0.410830  0.827580  0.030563 -0.034154  1.396600 -0.674510  0.632030  \n",
            "3849 -0.063987  0.640500  0.134090  0.493620  0.053929  0.076406  0.480470  \n",
            "3850 -0.006343  0.503620 -0.302750 -0.160550  1.049300  0.200960  0.168490  \n",
            "3851 -0.015850  0.036392  0.060152 -0.199040 -0.162570 -0.215310 -0.302470  \n",
            "3852 -0.298620 -0.049699 -0.200840 -0.479700  0.179900 -0.015995 -0.061135  \n",
            "3853  0.647250  0.292860 -0.227380 -0.190750  0.161680  0.204300  0.633270  \n",
            "3854  0.462010  0.056188 -0.748830 -0.154190 -0.799870  0.393000 -0.137740  \n",
            "3855 -0.251380 -0.425640 -0.062936 -0.299920 -0.088982  0.640810  0.103920  \n",
            "3856 -0.445110  0.589340 -0.268330 -0.871880 -0.278930 -0.852340 -0.716530  \n",
            "3857  0.268810 -0.747390  0.170690 -0.475520  0.375260 -0.007794 -0.027854  \n",
            "3858 -0.455040  0.138480  0.063853  0.355730  0.752940  0.338930  0.559740  \n",
            "3859 -0.421670 -0.212640 -0.093569 -0.670190  0.212360 -0.095104 -0.219570  \n",
            "3860  0.015187  0.056200  0.169140 -0.207820  0.141760  0.035036 -0.404720  \n",
            "3861  0.374970  0.751110  0.195770  0.086630  0.048182 -0.743630  0.086598  \n",
            "3862 -0.278070 -0.141920  0.209030  0.103600  0.159610 -0.107920  0.210980  \n",
            "3863  0.227480  0.098068  0.310770  0.485290  0.015202  1.107500  0.089421  \n",
            "3864  0.223070  0.426900 -0.075143  0.146540  0.290480  0.123760 -0.160740  \n",
            "3865 -0.220220  0.680910 -0.431680  0.028936  0.204520 -0.345340  0.147070  \n",
            "3866  0.154480  0.290700 -0.236640  0.511190  0.526810 -0.037599  0.139510  \n",
            "3867  0.218860 -0.365170 -0.641380 -0.115730  0.264220  0.009454  0.029009  \n",
            "3868 -0.095365 -0.411280  0.002595 -0.578450  0.097993 -0.327280  0.443090  \n",
            "3869  0.125680 -0.446310 -0.301020 -0.055221  0.063090 -0.200610  0.449800  \n",
            "3870  0.274970 -0.133210 -0.218240 -0.005339  0.515540 -0.214790 -0.274340  \n",
            "3871  0.087870  0.491926  0.443902  0.239096 -0.055438 -0.598350 -0.158507  \n",
            "3872  0.478786  0.197021 -0.572321  0.140440 -0.605326  0.431341  0.558998  \n",
            "\n",
            "[3873 rows x 300 columns]\n"
          ],
          "name": "stdout"
        }
      ]
    },
    {
      "metadata": {
        "id": "2z7GPyZoaeRB",
        "colab_type": "code",
        "colab": {
          "autoexec": {
            "startup": false,
            "wait_interval": 0
          },
          "output_extras": [
            {
              "item_id": 1
            },
            {
              "item_id": 3
            }
          ],
          "resources": {
            "http://localhost:8080/nbextensions/google.colab/files.js": {
              "data": "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",
              "ok": true,
              "headers": [
                [
                  "content-type",
                  "application/javascript"
                ]
              ],
              "status": 200,
              "status_text": ""
            }
          },
          "base_uri": "https://localhost:8080/",
          "height": 89
        },
        "outputId": "6977793d-2bf9-4e04-85b8-0c9376fac306",
        "executionInfo": {
          "status": "ok",
          "timestamp": 1521314974011,
          "user_tz": -330,
          "elapsed": 59148,
          "user": {
            "displayName": "Rajeevkumar Yadav",
            "photoUrl": "//lh3.googleusercontent.com/-GNHZqzjwUgA/AAAAAAAAAAI/AAAAAAAAD7M/PpefmHYb0HI/s50-c-k-no/photo.jpg",
            "userId": "103793841481824356030"
          }
        }
      },
      "cell_type": "code",
      "source": [
        "from google.colab import files\n",
        "\n",
        "uploaded = files.upload()\n",
        "\n",
        "for fn in uploaded.keys():\n",
        "  print('User uploaded file \"{name}\" with length {length} bytes'.format(\n",
        "      name=fn, length=len(uploaded[fn])))"
      ],
      "execution_count": 8,
      "outputs": [
        {
          "output_type": "display_data",
          "data": {
            "text/html": [
              "\n",
              "     <input type=\"file\" id=\"files-5ed5bcc8-9a75-45ea-ab16-6b7835fe9bcc\" name=\"files[]\" multiple disabled />\n",
              "     <output id=\"result-5ed5bcc8-9a75-45ea-ab16-6b7835fe9bcc\">\n",
              "      Upload widget is only available when the cell has been executed in the\n",
              "      current browser session. Please rerun this cell to enable.\n",
              "      </output>\n",
              "      <script src=\"/nbextensions/google.colab/files.js\"></script> "
            ],
            "text/plain": [
              "<IPython.core.display.HTML object>"
            ]
          },
          "metadata": {
            "tags": []
          }
        },
        {
          "output_type": "stream",
          "text": [
            "Saving x_train.csv to x_train.csv\n",
            "User uploaded file \"x_train.csv\" with length 1870836 bytes\n"
          ],
          "name": "stdout"
        }
      ]
    },
    {
      "metadata": {
        "id": "FBn3t54ecyhd",
        "colab_type": "code",
        "colab": {
          "autoexec": {
            "startup": false,
            "wait_interval": 0
          }
        }
      },
      "cell_type": "code",
      "source": [
        "import pandas as pd\n",
        "import io\n",
        "x_train = pd.read_csv(io.StringIO(uploaded['x_train.csv'].decode('utf-8')))"
      ],
      "execution_count": 0,
      "outputs": []
    },
    {
      "metadata": {
        "id": "oiF9OiJUeqxe",
        "colab_type": "code",
        "colab": {
          "autoexec": {
            "startup": false,
            "wait_interval": 0
          },
          "output_extras": [
            {
              "item_id": 1
            }
          ],
          "base_uri": "https://localhost:8080/",
          "height": 2176
        },
        "outputId": "ae65a088-6abb-460c-c437-0b22f6c13d77",
        "executionInfo": {
          "status": "ok",
          "timestamp": 1521315665730,
          "user_tz": -330,
          "elapsed": 935,
          "user": {
            "displayName": "Rajeevkumar Yadav",
            "photoUrl": "//lh3.googleusercontent.com/-GNHZqzjwUgA/AAAAAAAAAAI/AAAAAAAAD7M/PpefmHYb0HI/s50-c-k-no/photo.jpg",
            "userId": "103793841481824356030"
          }
        }
      },
      "cell_type": "code",
      "source": [
        "print(x_train)"
      ],
      "execution_count": 26,
      "outputs": [
        {
          "output_type": "stream",
          "text": [
            "         0     1     2     3     4     5     6     7     8     9  ...    190  \\\n",
            "0       71     1    97    11  1404   479  1348     6    71     1  ...   3872   \n",
            "1     3872  3872  3872  3872  3872  3872  3872  3872  3872  3872  ...   3872   \n",
            "2      441   192   655   656    72     1   425  3872  3872  3872  ...   3872   \n",
            "3      562  2875   183  2874     1   425  2568    71     1  1669  ...   3872   \n",
            "4     3872  3872  3872  3872  3872  3872  3872  3872  3872  3872  ...   3872   \n",
            "5      322  3871   954  1255   193  2809    72  1264  2317  3872  ...   3872   \n",
            "6      426     1  1892  3871   429    71  2886  1361    97    11  ...   3872   \n",
            "7     3872  3872  3872  3872  3872  3872  3872  3872  3872  3872  ...   3872   \n",
            "8       71  1327  1040    62  1005     1  1483  1484   296  3872  ...   3872   \n",
            "9        3  1095     1   437  2404   930   785     1   153     2  ...   3872   \n",
            "10    3872  3872  3872  3872  3872  3872  3872  3872  3872  3872  ...   3872   \n",
            "11       1     3   339   999   147   296  3872  3872  3872  3872  ...   3872   \n",
            "12     426     1    72   912   429   313     1    97    11  1741  ...   3872   \n",
            "13       1  1094    34   345  2794   552   368  3872  3872  3872  ...   3872   \n",
            "14     919  2651   118   688   147  3872  3872  3872  3872  3872  ...   3872   \n",
            "15     208   130     1    72  1453   296     1   339   645    88  ...   3872   \n",
            "16    3872  3872  3872  3872  3872  3872  3872  3872  3872  3872  ...   3872   \n",
            "17      71  1101  3871     1   313  3078  3079  1453   296     1  ...   3872   \n",
            "18      71   153   223    11  1034  1035   429     1   298     8  ...   3872   \n",
            "19       1   153   339   999   128  2450  3872  3872  3872  3872  ...   3872   \n",
            "20    3872  3872  3872  3872  3872  3872  3872  3872  3872  3872  ...   3872   \n",
            "21    3872  3872  3872  3872  3872  3872  3872  3872  3872  3872  ...   3872   \n",
            "22    3871    16   679    11  3083   542  3084     1  2085    71  ...   3872   \n",
            "23       1   425    72   915   696   916   917  3872  3872  3872  ...   3872   \n",
            "24      71     1   127    97    11   957   120   121    71     1  ...   3872   \n",
            "25    3872  3872  3872  3872  3872  3872  3872  3872  3872  3872  ...   3872   \n",
            "26     392   611  1931  1185  3872  3872  3872  3872  3872  3872  ...   3872   \n",
            "27    3872  3872  3872  3872  3872  3872  3872  3872  3872  3872  ...   3872   \n",
            "28    1165   862   790     1     3   474   101   102   147   333  ...   3872   \n",
            "29    1342  1343   236   150  1448   722   153    16   679    11  ...   3872   \n",
            "...    ...   ...   ...   ...   ...   ...   ...   ...   ...   ...  ...    ...   \n",
            "1864  3872  3872  3872  3872  3872  3872  3872  3872  3872  3872  ...   3872   \n",
            "1865  2708  1112   633   611  1943  1062   999   390   352  3872  ...   3872   \n",
            "1866     1   425   347   540   331   828   829    35     1     2  ...   3872   \n",
            "1867    11  3125     1    16   380  1194   528    60  3872  3872  ...   3872   \n",
            "1868  3872  3872  3872  3872  3872  3872  3872  3872  3872  3872  ...   3872   \n",
            "1869  3872  3872  3872  3872  3872  3872  3872  3872  3872  3872  ...   3872   \n",
            "1870     1   673   570  3554  3555  1910  1717    77   540     2  ...   3872   \n",
            "1871  3872  3872  3872  3872  3872  3872  3872  3872  3872  3872  ...   3872   \n",
            "1872     3     1   331  1416   381  2895  2896     3   353  1043  ...   3872   \n",
            "1873  3872  3872  3872  3872  3872  3872  3872  3872  3872  3872  ...   3872   \n",
            "1874    15  2899  2392   886  2900  2848   545     1   469  3871  ...   3872   \n",
            "1875   169   229   230   231   232   233   234   235  3872  3872  ...   3872   \n",
            "1876     1  3781  3782  2236   339  3568  3872  3872  3872  3872  ...   3872   \n",
            "1877   190   564   356   251     2   427   586  1737   777  3872  ...   3872   \n",
            "1878    71     1     3   251     2   153   576  2185     0     1  ...   3872   \n",
            "1879    71     1   624    97    11  1340  1032   924     1  2175  ...   3872   \n",
            "1880    71     1   223    11  2586   778   912   429     1   339  ...   3872   \n",
            "1881  3872  3872  3872  3872  3872  3872  3872  3872  3872  3872  ...   3872   \n",
            "1882  3872  3872  3872  3872  3872  3872  3872  3872  3872  3872  ...   3872   \n",
            "1883  3872  3872  3872  3872  3872  3872  3872  3872  3872  3872  ...   3872   \n",
            "1884    71     1    97    11   699   319   116     1    16   208  ...   3872   \n",
            "1885   967   790    88  1099   475   611  1647  1122     3    97  ...   3872   \n",
            "1886   153   392    78   340  2207   142    80  2208    80  2209  ...   3872   \n",
            "1887   785     3     1   807  1361   593    71     1  2280   468  ...   3872   \n",
            "1888     1   392    51   340    11    75   398   399    88   284  ...   3872   \n",
            "1889  3872  3872  3872  3872  3872  3872  3872  3872  3872  3872  ...   3872   \n",
            "1890  3872  3872  3872  3872  3872  3872  3872  3872  3872  3872  ...   3872   \n",
            "1891   251     2     1     3   542   527   130   131   400   401  ...   3872   \n",
            "1892     1   222   208    11   558  1165   862     1   922    11  ...   3872   \n",
            "1893  2930  2931  2932   543  1413  1158   197    71   236    72  ...   3872   \n",
            "\n",
            "       191   192   193   194   195   196   197   198   199  \n",
            "0     3872  3872  3872  3872  3872  3872  3872  3872  3872  \n",
            "1     3872  3872  3872  3872  3872  3872  3872  3872  3872  \n",
            "2     3872  3872  3872  3872  3872  3872  3872  3872  3872  \n",
            "3     3872  3872  3872  3872  3872  3872  3872  3872  3872  \n",
            "4     3872  3872  3872  3872  3872  3872  3872  3872  3872  \n",
            "5     3872  3872  3872  3872  3872  3872  3872  3872  3872  \n",
            "6     3872  3872  3872  3872  3872  3872  3872  3872  3872  \n",
            "7     3872  3872  3872  3872  3872  3872  3872  3872  3872  \n",
            "8     3872  3872  3872  3872  3872  3872  3872  3872  3872  \n",
            "9     3872  3872  3872  3872  3872  3872  3872  3872  3872  \n",
            "10    3872  3872  3872  3872  3872  3872  3872  3872  3872  \n",
            "11    3872  3872  3872  3872  3872  3872  3872  3872  3872  \n",
            "12    3872  3872  3872  3872  3872  3872  3872  3872  3872  \n",
            "13    3872  3872  3872  3872  3872  3872  3872  3872  3872  \n",
            "14    3872  3872  3872  3872  3872  3872  3872  3872  3872  \n",
            "15    3872  3872  3872  3872  3872  3872  3872  3872  3872  \n",
            "16    3872  3872  3872  3872  3872  3872  3872  3872  3872  \n",
            "17    3872  3872  3872  3872  3872  3872  3872  3872  3872  \n",
            "18    3872  3872  3872  3872  3872  3872  3872  3872  3872  \n",
            "19    3872  3872  3872  3872  3872  3872  3872  3872  3872  \n",
            "20    3872  3872  3872  3872  3872  3872  3872  3872  3872  \n",
            "21    3872  3872  3872  3872  3872  3872  3872  3872  3872  \n",
            "22    3872  3872  3872  3872  3872  3872  3872  3872  3872  \n",
            "23    3872  3872  3872  3872  3872  3872  3872  3872  3872  \n",
            "24    3872  3872  3872  3872  3872  3872  3872  3872  3872  \n",
            "25    3872  3872  3872  3872  3872  3872  3872  3872  3872  \n",
            "26    3872  3872  3872  3872  3872  3872  3872  3872  3872  \n",
            "27    3872  3872  3872  3872  3872  3872  3872  3872  3872  \n",
            "28    3872  3872  3872  3872  3872  3872  3872  3872  3872  \n",
            "29    3872  3872  3872  3872  3872  3872  3872  3872  3872  \n",
            "...    ...   ...   ...   ...   ...   ...   ...   ...   ...  \n",
            "1864  3872  3872  3872  3872  3872  3872  3872  3872  3872  \n",
            "1865  3872  3872  3872  3872  3872  3872  3872  3872  3872  \n",
            "1866  3872  3872  3872  3872  3872  3872  3872  3872  3872  \n",
            "1867  3872  3872  3872  3872  3872  3872  3872  3872  3872  \n",
            "1868  3872  3872  3872  3872  3872  3872  3872  3872  3872  \n",
            "1869  3872  3872  3872  3872  3872  3872  3872  3872  3872  \n",
            "1870  3872  3872  3872  3872  3872  3872  3872  3872  3872  \n",
            "1871  3872  3872  3872  3872  3872  3872  3872  3872  3872  \n",
            "1872  3872  3872  3872  3872  3872  3872  3872  3872  3872  \n",
            "1873  3872  3872  3872  3872  3872  3872  3872  3872  3872  \n",
            "1874  3872  3872  3872  3872  3872  3872  3872  3872  3872  \n",
            "1875  3872  3872  3872  3872  3872  3872  3872  3872  3872  \n",
            "1876  3872  3872  3872  3872  3872  3872  3872  3872  3872  \n",
            "1877  3872  3872  3872  3872  3872  3872  3872  3872  3872  \n",
            "1878  3872  3872  3872  3872  3872  3872  3872  3872  3872  \n",
            "1879  3872  3872  3872  3872  3872  3872  3872  3872  3872  \n",
            "1880  3872  3872  3872  3872  3872  3872  3872  3872  3872  \n",
            "1881  3872  3872  3872  3872  3872  3872  3872  3872  3872  \n",
            "1882  3872  3872  3872  3872  3872  3872  3872  3872  3872  \n",
            "1883  3872  3872  3872  3872  3872  3872  3872  3872  3872  \n",
            "1884  3872  3872  3872  3872  3872  3872  3872  3872  3872  \n",
            "1885  3872  3872  3872  3872  3872  3872  3872  3872  3872  \n",
            "1886  3872  3872  3872  3872  3872  3872  3872  3872  3872  \n",
            "1887  3872  3872  3872  3872  3872  3872  3872  3872  3872  \n",
            "1888  3872  3872  3872  3872  3872  3872  3872  3872  3872  \n",
            "1889  3872  3872  3872  3872  3872  3872  3872  3872  3872  \n",
            "1890  3872  3872  3872  3872  3872  3872  3872  3872  3872  \n",
            "1891  3872  3872  3872  3872  3872  3872  3872  3872  3872  \n",
            "1892  3872  3872  3872  3872  3872  3872  3872  3872  3872  \n",
            "1893  3872  3872  3872  3872  3872  3872  3872  3872  3872  \n",
            "\n",
            "[1894 rows x 200 columns]\n"
          ],
          "name": "stdout"
        }
      ]
    },
    {
      "metadata": {
        "id": "sL7NG94ldMF7",
        "colab_type": "code",
        "colab": {
          "autoexec": {
            "startup": false,
            "wait_interval": 0
          },
          "output_extras": [
            {
              "item_id": 1
            },
            {
              "item_id": 3
            }
          ],
          "resources": {
            "http://localhost:8080/nbextensions/google.colab/files.js": {
              "data": "Ly8gQ29weXJpZ2h0IDIwMTcgR29vZ2xlIExMQwovLwovLyBMaWNlbnNlZCB1bmRlciB0aGUgQXBhY2hlIExpY2Vuc2UsIFZlcnNpb24gMi4wICh0aGUgIkxpY2Vuc2UiKTsKLy8geW91IG1heSBub3QgdXNlIHRoaXMgZmlsZSBleGNlcHQgaW4gY29tcGxpYW5jZSB3aXRoIHRoZSBMaWNlbnNlLgovLyBZb3UgbWF5IG9idGFpbiBhIGNvcHkgb2YgdGhlIExpY2Vuc2UgYXQKLy8KLy8gICAgICBodHRwOi8vd3d3LmFwYWNoZS5vcmcvbGljZW5zZXMvTElDRU5TRS0yLjAKLy8KLy8gVW5sZXNzIHJlcXVpcmVkIGJ5IGFwcGxpY2FibGUgbGF3IG9yIGFncmVlZCB0byBpbiB3cml0aW5nLCBzb2Z0d2FyZQovLyBkaXN0cmlidXRlZCB1bmRlciB0aGUgTGljZW5zZSBpcyBkaXN0cmlidXRlZCBvbiBhbiAiQVMgSVMiIEJBU0lTLAovLyBXSVRIT1VUIFdBUlJBTlRJRVMgT1IgQ09ORElUSU9OUyBPRiBBTlkgS0lORCwgZWl0aGVyIGV4cHJlc3Mgb3IgaW1wbGllZC4KLy8gU2VlIHRoZSBMaWNlbnNlIGZvciB0aGUgc3BlY2lmaWMgbGFuZ3VhZ2UgZ292ZXJuaW5nIHBlcm1pc3Npb25zIGFuZAovLyBsaW1pdGF0aW9ucyB1bmRlciB0aGUgTGljZW5zZS4KCi8qKgogKiBAZmlsZW92ZXJ2aWV3IEhlbHBlcnMgZm9yIGdvb2dsZS5jb2xhYiBQeXRob24gbW9kdWxlLgogKi8KKGZ1bmN0aW9uKHNjb3BlKSB7CmZ1bmN0aW9uIHNwYW4odGV4dCwgc3R5bGVBdHRyaWJ1dGVzID0ge30pIHsKICBjb25zdCBlbGVtZW50ID0gZG9jdW1lbnQuY3JlYXRlRWxlbWVudCgnc3BhbicpOwogIGVsZW1lbnQudGV4dENvbnRlbnQgPSB0ZXh0OwogIGZvciAoY29uc3Qga2V5IG9mIE9iamVjdC5rZXlzKHN0eWxlQXR0cmlidXRlcykpIHsKICAgIGVsZW1lbnQuc3R5bGVba2V5XSA9IHN0eWxlQXR0cmlidXRlc1trZXldOwogIH0KICByZXR1cm4gZWxlbWVudDsKfQoKLy8gTWF4IG51bWJlciBvZiBieXRlcyB3aGljaCB3aWxsIGJlIHVwbG9hZGVkIGF0IGEgdGltZS4KY29uc3QgTUFYX1BBWUxPQURfU0laRSA9IDEwMCAqIDEwMjQ7Ci8vIE1heCBhbW91bnQgb2YgdGltZSB0byBibG9jayB3YWl0aW5nIGZvciB0aGUgdXNlci4KY29uc3QgRklMRV9DSEFOR0VfVElNRU9VVF9NUyA9IDMwICogMTAwMDsKCmZ1bmN0aW9uIF91cGxvYWRGaWxlcyhpbnB1dElkLCBvdXRwdXRJZCkgewogIGNvbnN0IHN0ZXBzID0gdXBsb2FkRmlsZXNTdGVwKGlucHV0SWQsIG91dHB1dElkKTsKICBjb25zdCBvdXRwdXRFbGVtZW50ID0gZG9jdW1lbnQuZ2V0RWxlbWVudEJ5SWQob3V0cHV0SWQpOwogIC8vIENhY2hlIHN0ZXBzIG9uIHRoZSBvdXRwdXRFbGVtZW50IHRvIG1ha2UgaXQgYXZhaWxhYmxlIGZvciB0aGUgbmV4dCBjYWxsCiAgLy8gdG8gdXBsb2FkRmlsZXNDb250aW51ZSBmcm9tIFB5dGhvbi4KICBvdXRwdXRFbGVtZW50LnN0ZXBzID0gc3RlcHM7CgogIHJldHVybiBfdXBsb2FkRmlsZXNDb250aW51ZShvdXRwdXRJZCk7Cn0KCi8vIFRoaXMgaXMgcm91Z2hseSBhbiBhc3luYyBnZW5lcmF0b3IgKG5vdCBzdXBwb3J0ZWQgaW4gdGhlIGJyb3dzZXIgeWV0KSwKLy8gd2hlcmUgdGhlcmUgYXJlIG11bHRpcGxlIGFzeW5jaHJvbm91cyBzdGVwcyBhbmQgdGhlIFB5dGhvbiBzaWRlIGlzIGdvaW5nCi8vIHRvIHBvbGwgZm9yIGNvbXBsZXRpb24gb2YgZWFjaCBzdGVwLgovLyBUaGlzIHVzZXMgYSBQcm9taXNlIHRvIGJsb2NrIHRoZSBweXRob24gc2lkZSBvbiBjb21wbGV0aW9uIG9mIGVhY2ggc3RlcCwKLy8gdGhlbiBwYXNzZXMgdGhlIHJlc3VsdCBvZiB0aGUgcHJldmlvdXMgc3RlcCBhcyB0aGUgaW5wdXQgdG8gdGhlIG5leHQgc3RlcC4KZnVuY3Rpb24gX3VwbG9hZEZpbGVzQ29udGludWUob3V0cHV0SWQpIHsKICBjb25zdCBvdXRwdXRFbGVtZW50ID0gZG9jdW1lbnQuZ2V0RWxlbWVudEJ5SWQob3V0cHV0SWQpOwogIGNvbnN0IHN0ZXBzID0gb3V0cHV0RWxlbWVudC5zdGVwczsKCiAgY29uc3QgbmV4dCA9IHN0ZXBzLm5leHQob3V0cHV0RWxlbWVudC5sYXN0UHJvbWlzZVZhbHVlKTsKICByZXR1cm4gUHJvbWlzZS5yZXNvbHZlKG5leHQudmFsdWUucHJvbWlzZSkudGhlbigodmFsdWUpID0+IHsKICAgIC8vIENhY2hlIHRoZSBsYXN0IHByb21pc2UgdmFsdWUgdG8gbWFrZSBpdCBhdmFpbGFibGUgdG8gdGhlIG5leHQKICAgIC8vIHN0ZXAgb2YgdGhlIGdlbmVyYXRvci4KICAgIG91dHB1dEVsZW1lbnQubGFzdFByb21pc2VWYWx1ZSA9IHZhbHVlOwogICAgcmV0dXJuIG5leHQudmFsdWUucmVzcG9uc2U7CiAgfSk7Cn0KCi8qKgogKiBHZW5lcmF0b3IgZnVuY3Rpb24gd2hpY2ggaXMgY2FsbGVkIGJldHdlZW4gZWFjaCBhc3luYyBzdGVwIG9mIHRoZSB1cGxvYWQKICogcHJvY2Vzcy4KICogQHBhcmFtIHtzdHJpbmd9IGlucHV0SWQgRWxlbWVudCBJRCBvZiB0aGUgaW5wdXQgZmlsZSBwaWNrZXIgZWxlbWVudC4KICogQHBhcmFtIHtzdHJpbmd9IG91dHB1dElkIEVsZW1lbnQgSUQgb2YgdGhlIG91dHB1dCBkaXNwbGF5LgogKiBAcmV0dXJuIHshSXRlcmFibGU8IU9iamVjdD59IEl0ZXJhYmxlIG9mIG5leHQgc3RlcHMuCiAqLwpmdW5jdGlvbiogdXBsb2FkRmlsZXNTdGVwKGlucHV0SWQsIG91dHB1dElkKSB7CiAgY29uc3QgaW5wdXRFbGVtZW50ID0gZG9jdW1lbnQuZ2V0RWxlbWVudEJ5SWQoaW5wdXRJZCk7CiAgaW5wdXRFbGVtZW50LmRpc2FibGVkID0gZmFsc2U7CgogIGNvbnN0IG91dHB1dEVsZW1lbnQgPSBkb2N1bWVudC5nZXRFbGVtZW50QnlJZChvdXRwdXRJZCk7CiAgb3V0cHV0RWxlbWVudC5pbm5lckhUTUwgPSAnJzsKCiAgY29uc3QgcGlja2VkUHJvbWlzZSA9IG5ldyBQcm9taXNlKChyZXNvbHZlKSA9PiB7CiAgICBpbnB1dEVsZW1lbnQuYWRkRXZlbnRMaXN0ZW5lcignY2hhbmdlJywgKGUpID0+IHsKICAgICAgcmVzb2x2ZShlLnRhcmdldC5maWxlcyk7CiAgICB9KTsKICB9KTsKCiAgY29uc3QgY2FuY2VsID0gZG9jdW1lbnQuY3JlYXRlRWxlbWVudCgnYnV0dG9uJyk7CiAgaW5wdXRFbGVtZW50LnBhcmVudEVsZW1lbnQuYXBwZW5kQ2hpbGQoY2FuY2VsKTsKICBjYW5jZWwudGV4dENvbnRlbnQgPSAnQ2FuY2VsIHVwbG9hZCc7CiAgY29uc3QgY2FuY2VsUHJvbWlzZSA9IG5ldyBQcm9taXNlKChyZXNvbHZlKSA9PiB7CiAgICBjYW5jZWwub25jbGljayA9ICgpID0+IHsKICAgICAgcmVzb2x2ZShudWxsKTsKICAgIH07CiAgfSk7CgogIC8vIENhbmNlbCB1cGxvYWQgaWYgdXNlciBoYXNuJ3QgcGlja2VkIGFueXRoaW5nIGluIHRpbWVvdXQuCiAgY29uc3QgdGltZW91dFByb21pc2UgPSBuZXcgUHJvbWlzZSgocmVzb2x2ZSkgPT4gewogICAgc2V0VGltZW91dCgoKSA9PiB7CiAgICAgIHJlc29sdmUobnVsbCk7CiAgICB9LCBGSUxFX0NIQU5HRV9USU1FT1VUX01TKTsKICB9KTsKCiAgLy8gV2FpdCBmb3IgdGhlIHVzZXIgdG8gcGljayB0aGUgZmlsZXMuCiAgY29uc3QgZmlsZXMgPSB5aWVsZCB7CiAgICBwcm9taXNlOiBQcm9taXNlLnJhY2UoW3BpY2tlZFByb21pc2UsIHRpbWVvdXRQcm9taXNlLCBjYW5jZWxQcm9taXNlXSksCiAgICByZXNwb25zZTogewogICAgICBhY3Rpb246ICdzdGFydGluZycsCiAgICB9CiAgfTsKCiAgaWYgKCFmaWxlcykgewogICAgcmV0dXJuIHsKICAgICAgcmVzcG9uc2U6IHsKICAgICAgICBhY3Rpb246ICdjb21wbGV0ZScsCiAgICAgIH0KICAgIH07CiAgfQoKICBjYW5jZWwucmVtb3ZlKCk7CgogIC8vIERpc2FibGUgdGhlIGlucHV0IGVsZW1lbnQgc2luY2UgZnVydGhlciBwaWNrcyBhcmUgbm90IGFsbG93ZWQuCiAgaW5wdXRFbGVtZW50LmRpc2FibGVkID0gdHJ1ZTsKCiAgZm9yIChjb25zdCBmaWxlIG9mIGZpbGVzKSB7CiAgICBjb25zdCBsaSA9IGRvY3VtZW50LmNyZWF0ZUVsZW1lbnQoJ2xpJyk7CiAgICBsaS5hcHBlbmQoc3BhbihmaWxlLm5hbWUsIHtmb250V2VpZ2h0OiAnYm9sZCd9KSk7CiAgICBsaS5hcHBlbmQoc3BhbigKICAgICAgICBgKCR7ZmlsZS50eXBlIHx8ICduL2EnfSkgLSAke2ZpbGUuc2l6ZX0gYnl0ZXMsIGAgKwogICAgICAgIGBsYXN0IG1vZGlmaWVkOiAkewogICAgICAgICAgICBmaWxlLmxhc3RNb2RpZmllZERhdGUgPyBmaWxlLmxhc3RNb2RpZmllZERhdGUudG9Mb2NhbGVEYXRlU3RyaW5nKCkgOgogICAgICAgICAgICAgICAgICAgICAgICAgICAgICAgICAgICAnbi9hJ30gLSBgKSk7CiAgICBjb25zdCBwZXJjZW50ID0gc3BhbignMCUgZG9uZScpOwogICAgbGkuYXBwZW5kQ2hpbGQocGVyY2VudCk7CgogICAgb3V0cHV0RWxlbWVudC5hcHBlbmRDaGlsZChsaSk7CgogICAgY29uc3QgZmlsZURhdGFQcm9taXNlID0gbmV3IFByb21pc2UoKHJlc29sdmUpID0+IHsKICAgICAgY29uc3QgcmVhZGVyID0gbmV3IEZpbGVSZWFkZXIoKTsKICAgICAgcmVhZGVyLm9ubG9hZCA9IChlKSA9PiB7CiAgICAgICAgcmVzb2x2ZShlLnRhcmdldC5yZXN1bHQpOwogICAgICB9OwogICAgICByZWFkZXIucmVhZEFzQXJyYXlCdWZmZXIoZmlsZSk7CiAgICB9KTsKICAgIC8vIFdhaXQgZm9yIHRoZSBkYXRhIHRvIGJlIHJlYWR5LgogICAgbGV0IGZpbGVEYXRhID0geWllbGQgewogICAgICBwcm9taXNlOiBmaWxlRGF0YVByb21pc2UsCiAgICAgIHJlc3BvbnNlOiB7CiAgICAgICAgYWN0aW9uOiAnY29udGludWUnLAogICAgICB9CiAgICB9OwoKICAgIC8vIFVzZSBhIGNodW5rZWQgc2VuZGluZyB0byBhdm9pZCBtZXNzYWdlIHNpemUgbGltaXRzLiBTZWUgYi82MjExNTY2MC4KICAgIGxldCBwb3NpdGlvbiA9IDA7CiAgICB3aGlsZSAocG9zaXRpb24gPCBmaWxlRGF0YS5ieXRlTGVuZ3RoKSB7CiAgICAgIGNvbnN0IGxlbmd0aCA9IE1hdGgubWluKGZpbGVEYXRhLmJ5dGVMZW5ndGggLSBwb3NpdGlvbiwgTUFYX1BBWUxPQURfU0laRSk7CiAgICAgIGNvbnN0IGNodW5rID0gbmV3IFVpbnQ4QXJyYXkoZmlsZURhdGEsIHBvc2l0aW9uLCBsZW5ndGgpOwogICAgICBwb3NpdGlvbiArPSBsZW5ndGg7CgogICAgICBjb25zdCBiYXNlNjQgPSBidG9hKFN0cmluZy5mcm9tQ2hhckNvZGUuYXBwbHkobnVsbCwgY2h1bmspKTsKICAgICAgeWllbGQgewogICAgICAgIHJlc3BvbnNlOiB7CiAgICAgICAgICBhY3Rpb246ICdhcHBlbmQnLAogICAgICAgICAgZmlsZTogZmlsZS5uYW1lLAogICAgICAgICAgZGF0YTogYmFzZTY0LAogICAgICAgIH0sCiAgICAgIH07CiAgICAgIHBlcmNlbnQudGV4dENvbnRlbnQgPQogICAgICAgICAgYCR7TWF0aC5yb3VuZCgocG9zaXRpb24gLyBmaWxlRGF0YS5ieXRlTGVuZ3RoKSAqIDEwMCl9JSBkb25lYDsKICAgIH0KICB9CgogIC8vIEFsbCBkb25lLgogIHlpZWxkIHsKICAgIHJlc3BvbnNlOiB7CiAgICAgIGFjdGlvbjogJ2NvbXBsZXRlJywKICAgIH0KICB9Owp9CgpzY29wZS5nb29nbGUgPSBzY29wZS5nb29nbGUgfHwge307CnNjb3BlLmdvb2dsZS5jb2xhYiA9IHNjb3BlLmdvb2dsZS5jb2xhYiB8fCB7fTsKc2NvcGUuZ29vZ2xlLmNvbGFiLl9maWxlcyA9IHsKICBfdXBsb2FkRmlsZXMsCiAgX3VwbG9hZEZpbGVzQ29udGludWUsCn07Cn0pKHNlbGYpOwo=",
              "ok": true,
              "headers": [
                [
                  "content-type",
                  "application/javascript"
                ]
              ],
              "status": 200,
              "status_text": ""
            }
          },
          "base_uri": "https://localhost:8080/",
          "height": 89
        },
        "outputId": "6bba8881-f12b-45ae-bcfc-254982546828",
        "executionInfo": {
          "status": "ok",
          "timestamp": 1521315324276,
          "user_tz": -330,
          "elapsed": 19653,
          "user": {
            "displayName": "Rajeevkumar Yadav",
            "photoUrl": "//lh3.googleusercontent.com/-GNHZqzjwUgA/AAAAAAAAAAI/AAAAAAAAD7M/PpefmHYb0HI/s50-c-k-no/photo.jpg",
            "userId": "103793841481824356030"
          }
        }
      },
      "cell_type": "code",
      "source": [
        "from google.colab import files\n",
        "\n",
        "uploaded = files.upload()\n",
        "\n",
        "for fn in uploaded.keys():\n",
        "  print('User uploaded file \"{name}\" with length {length} bytes'.format(\n",
        "      name=fn, length=len(uploaded[fn])))"
      ],
      "execution_count": 14,
      "outputs": [
        {
          "output_type": "display_data",
          "data": {
            "text/html": [
              "\n",
              "     <input type=\"file\" id=\"files-1b980aaa-f013-4366-937d-2f3b8dc0cf09\" name=\"files[]\" multiple disabled />\n",
              "     <output id=\"result-1b980aaa-f013-4366-937d-2f3b8dc0cf09\">\n",
              "      Upload widget is only available when the cell has been executed in the\n",
              "      current browser session. Please rerun this cell to enable.\n",
              "      </output>\n",
              "      <script src=\"/nbextensions/google.colab/files.js\"></script> "
            ],
            "text/plain": [
              "<IPython.core.display.HTML object>"
            ]
          },
          "metadata": {
            "tags": []
          }
        },
        {
          "output_type": "stream",
          "text": [
            "Saving x_test.csv to x_test.csv\n",
            "User uploaded file \"x_test.csv\" with length 330655 bytes\n"
          ],
          "name": "stdout"
        }
      ]
    },
    {
      "metadata": {
        "id": "mQfj787Jdiu_",
        "colab_type": "code",
        "colab": {
          "autoexec": {
            "startup": false,
            "wait_interval": 0
          }
        }
      },
      "cell_type": "code",
      "source": [
        "import pandas as pd\n",
        "import io\n",
        "x_test = pd.read_csv(io.StringIO(uploaded['x_test.csv'].decode('utf-8')))"
      ],
      "execution_count": 0,
      "outputs": []
    },
    {
      "metadata": {
        "id": "wxkNU8wVeU88",
        "colab_type": "code",
        "colab": {
          "autoexec": {
            "startup": false,
            "wait_interval": 0
          },
          "output_extras": [
            {
              "item_id": 1
            }
          ],
          "base_uri": "https://localhost:8080/",
          "height": 2176
        },
        "outputId": "39bc5586-b7a7-4471-de0c-75011b99970c",
        "executionInfo": {
          "status": "ok",
          "timestamp": 1521315586663,
          "user_tz": -330,
          "elapsed": 911,
          "user": {
            "displayName": "Rajeevkumar Yadav",
            "photoUrl": "//lh3.googleusercontent.com/-GNHZqzjwUgA/AAAAAAAAAAI/AAAAAAAAD7M/PpefmHYb0HI/s50-c-k-no/photo.jpg",
            "userId": "103793841481824356030"
          }
        }
      },
      "cell_type": "code",
      "source": [
        "print(x_test)"
      ],
      "execution_count": 22,
      "outputs": [
        {
          "output_type": "stream",
          "text": [
            "        0     1     2     3     4     5     6     7     8     9  ...    190  \\\n",
            "0     951   719    71  1424  1247     1   426  1540  1541  3872  ...   3872   \n",
            "1      71     1    97    11  1661  1362   753   390   111    34  ...   3872   \n",
            "2    3872  3872  3872  3872  3872  3872  3872  3872  3872  3872  ...   3872   \n",
            "3      71     1    97    11  2620   115   116   190  1301    19  ...   3872   \n",
            "4    3871  1184   118     1     3    71   236   880  3871  3872  ...   3872   \n",
            "5      71     1  1892  2854  2855  3872  3872  3872  3872  3872  ...   3872   \n",
            "6     912   429  1523  2191  2107     1     1    16    19    41  ...   3872   \n",
            "7    3872  3872  3872  3872  3872  3872  3872  3872  3872  3872  ...   3872   \n",
            "8    3872  3872  3872  3872  3872  3872  3872  3872  3872  3872  ...   3872   \n",
            "9    1297  1298  1299   287    72     3   345    88   588  1300  ...   3872   \n",
            "10   3872  3872  3872  3872  3872  3872  3872  3872  3872  3872  ...   3872   \n",
            "11    543  1244  2270     6  3399  1326   196   197    71   807  ...   3872   \n",
            "12   3872  3872  3872  3872  3872  3872  3872  3872  3872  3872  ...   3872   \n",
            "13      1     3    16  1017  1018   564   632  1019    40  1020  ...   3872   \n",
            "14     71     3     1  1453   296  1125  2105   729   977  1484  ...   3872   \n",
            "15      1  2161  2162  2163  2164  2165  2166  1050  2167  2157  ...   3872   \n",
            "16     71     1  2706    62   426   807  1361  3190   975  1148  ...   3872   \n",
            "17      1   863     9    10   390    75    11   865    13  3872  ...   3872   \n",
            "18   3872  3872  3872  3872  3872  3872  3872  3872  3872  3872  ...   3872   \n",
            "19      1   353   860   861   862     1   863     9    10    79  ...   3872   \n",
            "20   3872  3872  3872  3872  3872  3872  3872  3872  3872  3872  ...   3872   \n",
            "21   3872  3872  3872  3872  3872  3872  3872  3872  3872  3872  ...   3872   \n",
            "22   3872  3872  3872  3872  3872  3872  3872  3872  3872  3872  ...   3872   \n",
            "23    167   110    33   424     1   425  3872  3872  3872  3872  ...   3872   \n",
            "24   3225  3226  3227  3228  3229   844  3230    71     1   343  ...   3872   \n",
            "25   1029  1030   339  1286   999  1255   340   822     1  3519  ...   3872   \n",
            "26   3872  3872  3872  3872  3872  3872  3872  3872  3872  3872  ...   3872   \n",
            "27   3872  3872  3872  3872  3872  3872  3872  3872  3872  3872  ...   3872   \n",
            "28      1   758   982   475   508  1379   776  2250  1762  2836  ...   3872   \n",
            "29      1  3114   346  3115  1146   342  3871   130  1407    40  ...   3872   \n",
            "..    ...   ...   ...   ...   ...   ...   ...   ...   ...   ...  ...    ...   \n",
            "305   785  1484   236   962   401  3872  3872  3872  3872  3872  ...   3872   \n",
            "306  2665  2142  2666   111   472   426     1   884   912   429  ...   3872   \n",
            "307  3872  3872  3872  3872  3872  3872  3872  3872  3872  3872  ...   3872   \n",
            "308   951   719    71     1  2527  3156   313  1944  1945  3871  ...   3872   \n",
            "309     1  1730  1823  2624  2625  2157  1972     1  1798  1545  ...   3872   \n",
            "310     1   984   366   985     1     2   984   366   985  3872  ...   3872   \n",
            "311  3872  3872  3872  3872  3872  3872  3872  3872  3872  3872  ...   3872   \n",
            "312   208   130     1    72  3871   805  3872  3872  3872  3872  ...   3872   \n",
            "313   951   719    71     3     1  1536  1537   426  1538  1539  ...   3872   \n",
            "314  3223   981     1  3224   251     2  1029  1030  3872  3872  ...   3872   \n",
            "315    71   251     2  1247   127   616   357    71     1  3110  ...   3872   \n",
            "316  3872  3872  3872  3872  3872  3872  3872  3872  3872  3872  ...   3872   \n",
            "317    71  1040    62   884  2854  2855  3872  3872  3872  3872  ...   3872   \n",
            "318  3871   790   147  3872  3872  3872  3872  3872  3872  3872  ...   3872   \n",
            "319  3327  3328   413   540   196   197   169  1256   413  3328  ...   3872   \n",
            "320  2975   207  1246   892     1  2750    39  1259  3719  3720  ...   3872   \n",
            "321  2522  2523  2524   131     1   758   263  2348  3872  3872  ...   3872   \n",
            "322   967   312   968     3     7   508    14   312   118     1  ...   3872   \n",
            "323  3872  3872  3872  3872  3872  3872  3872  3872  3872  3872  ...   3872   \n",
            "324   251     2     3   745  3871   725  3872  3872  3872  3872  ...   3872   \n",
            "325     0     1   115   335   336   337   338   339   340   169  ...   3872   \n",
            "326   807  1361   413  1894  1895   317  1467    40  1631   265  ...   3872   \n",
            "327    71   260  2811   418   313     1  3871  2812  3872  3872  ...   3872   \n",
            "328   313  3871  3245    71  1667  2635    16   714   296    71  ...   3872   \n",
            "329   111   182  2819  2820  3622    72     1   425  3872  3872  ...   3872   \n",
            "330  3872  3872  3872  3872  3872  3872  3872  3872  3872  3872  ...   3872   \n",
            "331     3     1   339   999   147    72  1405   328  3872  3872  ...   3872   \n",
            "332  3872  3872  3872  3872  3872  3872  3872  3872  3872  3872  ...   3872   \n",
            "333    71  2784   236  1118  3871     3   274   406  1758   767  ...   3872   \n",
            "334  3872  3872  3872  3872  3872  3872  3872  3872  3872  3872  ...   3872   \n",
            "\n",
            "      191   192   193   194   195   196   197   198   199  \n",
            "0    3872  3872  3872  3872  3872  3872  3872  3872  3872  \n",
            "1    3872  3872  3872  3872  3872  3872  3872  3872  3872  \n",
            "2    3872  3872  3872  3872  3872  3872  3872  3872  3872  \n",
            "3    3872  3872  3872  3872  3872  3872  3872  3872  3872  \n",
            "4    3872  3872  3872  3872  3872  3872  3872  3872  3872  \n",
            "5    3872  3872  3872  3872  3872  3872  3872  3872  3872  \n",
            "6    3872  3872  3872  3872  3872  3872  3872  3872  3872  \n",
            "7    3872  3872  3872  3872  3872  3872  3872  3872  3872  \n",
            "8    3872  3872  3872  3872  3872  3872  3872  3872  3872  \n",
            "9    3872  3872  3872  3872  3872  3872  3872  3872  3872  \n",
            "10   3872  3872  3872  3872  3872  3872  3872  3872  3872  \n",
            "11   3872  3872  3872  3872  3872  3872  3872  3872  3872  \n",
            "12   3872  3872  3872  3872  3872  3872  3872  3872  3872  \n",
            "13   3872  3872  3872  3872  3872  3872  3872  3872  3872  \n",
            "14   3872  3872  3872  3872  3872  3872  3872  3872  3872  \n",
            "15   3872  3872  3872  3872  3872  3872  3872  3872  3872  \n",
            "16   3872  3872  3872  3872  3872  3872  3872  3872  3872  \n",
            "17   3872  3872  3872  3872  3872  3872  3872  3872  3872  \n",
            "18   3872  3872  3872  3872  3872  3872  3872  3872  3872  \n",
            "19   3872  3872  3872  3872  3872  3872  3872  3872  3872  \n",
            "20   3872  3872  3872  3872  3872  3872  3872  3872  3872  \n",
            "21   3872  3872  3872  3872  3872  3872  3872  3872  3872  \n",
            "22   3872  3872  3872  3872  3872  3872  3872  3872  3872  \n",
            "23   3872  3872  3872  3872  3872  3872  3872  3872  3872  \n",
            "24   3872  3872  3872  3872  3872  3872  3872  3872  3872  \n",
            "25   3872  3872  3872  3872  3872  3872  3872  3872  3872  \n",
            "26   3872  3872  3872  3872  3872  3872  3872  3872  3872  \n",
            "27   3872  3872  3872  3872  3872  3872  3872  3872  3872  \n",
            "28   3872  3872  3872  3872  3872  3872  3872  3872  3872  \n",
            "29   3872  3872  3872  3872  3872  3872  3872  3872  3872  \n",
            "..    ...   ...   ...   ...   ...   ...   ...   ...   ...  \n",
            "305  3872  3872  3872  3872  3872  3872  3872  3872  3872  \n",
            "306  3872  3872  3872  3872  3872  3872  3872  3872  3872  \n",
            "307  3872  3872  3872  3872  3872  3872  3872  3872  3872  \n",
            "308  3872  3872  3872  3872  3872  3872  3872  3872  3872  \n",
            "309  3872  3872  3872  3872  3872  3872  3872  3872  3872  \n",
            "310  3872  3872  3872  3872  3872  3872  3872  3872  3872  \n",
            "311  3872  3872  3872  3872  3872  3872  3872  3872  3872  \n",
            "312  3872  3872  3872  3872  3872  3872  3872  3872  3872  \n",
            "313  3872  3872  3872  3872  3872  3872  3872  3872  3872  \n",
            "314  3872  3872  3872  3872  3872  3872  3872  3872  3872  \n",
            "315  3872  3872  3872  3872  3872  3872  3872  3872  3872  \n",
            "316  3872  3872  3872  3872  3872  3872  3872  3872  3872  \n",
            "317  3872  3872  3872  3872  3872  3872  3872  3872  3872  \n",
            "318  3872  3872  3872  3872  3872  3872  3872  3872  3872  \n",
            "319  3872  3872  3872  3872  3872  3872  3872  3872  3872  \n",
            "320  3872  3872  3872  3872  3872  3872  3872  3872  3872  \n",
            "321  3872  3872  3872  3872  3872  3872  3872  3872  3872  \n",
            "322  3872  3872  3872  3872  3872  3872  3872  3872  3872  \n",
            "323  3872  3872  3872  3872  3872  3872  3872  3872  3872  \n",
            "324  3872  3872  3872  3872  3872  3872  3872  3872  3872  \n",
            "325  3872  3872  3872  3872  3872  3872  3872  3872  3872  \n",
            "326  3872  3872  3872  3872  3872  3872  3872  3872  3872  \n",
            "327  3872  3872  3872  3872  3872  3872  3872  3872  3872  \n",
            "328  3872  3872  3872  3872  3872  3872  3872  3872  3872  \n",
            "329  3872  3872  3872  3872  3872  3872  3872  3872  3872  \n",
            "330  3872  3872  3872  3872  3872  3872  3872  3872  3872  \n",
            "331  3872  3872  3872  3872  3872  3872  3872  3872  3872  \n",
            "332  3872  3872  3872  3872  3872  3872  3872  3872  3872  \n",
            "333  3872  3872  3872  3872  3872  3872  3872  3872  3872  \n",
            "334  3872  3872  3872  3872  3872  3872  3872  3872  3872  \n",
            "\n",
            "[335 rows x 200 columns]\n"
          ],
          "name": "stdout"
        }
      ]
    },
    {
      "metadata": {
        "id": "Q3eIee1jdrok",
        "colab_type": "code",
        "colab": {
          "autoexec": {
            "startup": false,
            "wait_interval": 0
          },
          "output_extras": [
            {
              "item_id": 1
            },
            {
              "item_id": 3
            }
          ],
          "resources": {
            "http://localhost:8080/nbextensions/google.colab/files.js": {
              "data": "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",
              "ok": true,
              "headers": [
                [
                  "content-type",
                  "application/javascript"
                ]
              ],
              "status": 200,
              "status_text": ""
            }
          },
          "base_uri": "https://localhost:8080/",
          "height": 89
        },
        "outputId": "0678f5a2-7e76-4641-d949-79e337f18531",
        "executionInfo": {
          "status": "ok",
          "timestamp": 1521315606783,
          "user_tz": -330,
          "elapsed": 11769,
          "user": {
            "displayName": "Rajeevkumar Yadav",
            "photoUrl": "//lh3.googleusercontent.com/-GNHZqzjwUgA/AAAAAAAAAAI/AAAAAAAAD7M/PpefmHYb0HI/s50-c-k-no/photo.jpg",
            "userId": "103793841481824356030"
          }
        }
      },
      "cell_type": "code",
      "source": [
        "from google.colab import files\n",
        "\n",
        "uploaded = files.upload()\n",
        "\n",
        "for fn in uploaded.keys():\n",
        "  print('User uploaded file \"{name}\" with length {length} bytes'.format(\n",
        "      name=fn, length=len(uploaded[fn])))"
      ],
      "execution_count": 23,
      "outputs": [
        {
          "output_type": "display_data",
          "data": {
            "text/html": [
              "\n",
              "     <input type=\"file\" id=\"files-1661ba75-8a9a-480c-8649-0b7ec16db38c\" name=\"files[]\" multiple disabled />\n",
              "     <output id=\"result-1661ba75-8a9a-480c-8649-0b7ec16db38c\">\n",
              "      Upload widget is only available when the cell has been executed in the\n",
              "      current browser session. Please rerun this cell to enable.\n",
              "      </output>\n",
              "      <script src=\"/nbextensions/google.colab/files.js\"></script> "
            ],
            "text/plain": [
              "<IPython.core.display.HTML object>"
            ]
          },
          "metadata": {
            "tags": []
          }
        },
        {
          "output_type": "stream",
          "text": [
            "Saving y_test.csv to y_test (1).csv\n",
            "User uploaded file \"y_test.csv\" with length 6335 bytes\n"
          ],
          "name": "stdout"
        }
      ]
    },
    {
      "metadata": {
        "id": "Ydyd3KAzdz3h",
        "colab_type": "code",
        "colab": {
          "autoexec": {
            "startup": false,
            "wait_interval": 0
          }
        }
      },
      "cell_type": "code",
      "source": [
        "import pandas as pd\n",
        "import io\n",
        "y_test = pd.read_csv(io.StringIO(uploaded['y_test.csv'].decode('utf-8')))"
      ],
      "execution_count": 0,
      "outputs": []
    },
    {
      "metadata": {
        "id": "teasCe3BeJgI",
        "colab_type": "code",
        "colab": {
          "autoexec": {
            "startup": false,
            "wait_interval": 0
          },
          "output_extras": [
            {
              "item_id": 1
            }
          ],
          "base_uri": "https://localhost:8080/",
          "height": 1105
        },
        "outputId": "df3e0685-4036-4296-d5c2-4f92d6913434",
        "executionInfo": {
          "status": "ok",
          "timestamp": 1521315619695,
          "user_tz": -330,
          "elapsed": 897,
          "user": {
            "displayName": "Rajeevkumar Yadav",
            "photoUrl": "//lh3.googleusercontent.com/-GNHZqzjwUgA/AAAAAAAAAAI/AAAAAAAAD7M/PpefmHYb0HI/s50-c-k-no/photo.jpg",
            "userId": "103793841481824356030"
          }
        }
      },
      "cell_type": "code",
      "source": [
        "print(y_test)"
      ],
      "execution_count": 25,
      "outputs": [
        {
          "output_type": "stream",
          "text": [
            "            0\n",
            "0    0.592841\n",
            "1    0.534509\n",
            "2    0.535282\n",
            "3    0.479269\n",
            "4    0.584857\n",
            "5    0.583827\n",
            "6    0.610868\n",
            "7    0.595416\n",
            "8    0.539016\n",
            "9    0.467808\n",
            "10   0.483389\n",
            "11   0.599794\n",
            "12   0.590265\n",
            "13   0.569663\n",
            "14   0.702292\n",
            "15   0.534896\n",
            "16   0.604430\n",
            "17   0.599150\n",
            "18   0.565861\n",
            "19   0.559104\n",
            "20   0.608293\n",
            "21   0.484934\n",
            "22   0.639196\n",
            "23   0.493562\n",
            "24   0.599279\n",
            "25   0.661087\n",
            "26   0.587561\n",
            "27   0.511718\n",
            "28   0.481329\n",
            "29   0.408705\n",
            "..        ...\n",
            "305  0.550028\n",
            "306  0.534896\n",
            "307  0.507855\n",
            "308  0.424157\n",
            "309  0.516868\n",
            "310  0.596704\n",
            "311  0.604430\n",
            "312  0.572238\n",
            "313  0.604558\n",
            "314  0.548287\n",
            "315  0.676024\n",
            "316  0.560587\n",
            "317  0.519444\n",
            "318  0.540113\n",
            "319  0.336338\n",
            "320  0.706928\n",
            "321  0.573268\n",
            "322  0.635333\n",
            "323  0.654777\n",
            "324  0.582153\n",
            "325  0.560649\n",
            "326  0.541334\n",
            "327  0.609426\n",
            "328  0.720577\n",
            "329  0.581252\n",
            "330  0.588401\n",
            "331  0.644795\n",
            "332  0.690446\n",
            "333  0.511718\n",
            "334  0.592712\n",
            "\n",
            "[335 rows x 1 columns]\n"
          ],
          "name": "stdout"
        }
      ]
    },
    {
      "metadata": {
        "id": "cE6p3TbVd3aE",
        "colab_type": "code",
        "colab": {
          "autoexec": {
            "startup": false,
            "wait_interval": 0
          },
          "output_extras": [
            {
              "item_id": 1
            },
            {
              "item_id": 3
            }
          ],
          "resources": {
            "http://localhost:8080/nbextensions/google.colab/files.js": {
              "data": "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",
              "ok": true,
              "headers": [
                [
                  "content-type",
                  "application/javascript"
                ]
              ],
              "status": 200,
              "status_text": ""
            }
          },
          "base_uri": "https://localhost:8080/",
          "height": 89
        },
        "outputId": "c68b5e47-cf12-4f16-d2d2-dc7da850ca79",
        "executionInfo": {
          "status": "ok",
          "timestamp": 1521315706297,
          "user_tz": -330,
          "elapsed": 12391,
          "user": {
            "displayName": "Rajeevkumar Yadav",
            "photoUrl": "//lh3.googleusercontent.com/-GNHZqzjwUgA/AAAAAAAAAAI/AAAAAAAAD7M/PpefmHYb0HI/s50-c-k-no/photo.jpg",
            "userId": "103793841481824356030"
          }
        }
      },
      "cell_type": "code",
      "source": [
        "from google.colab import files\n",
        "\n",
        "uploaded = files.upload()\n",
        "\n",
        "for fn in uploaded.keys():\n",
        "  print('User uploaded file \"{name}\" with length {length} bytes'.format(\n",
        "      name=fn, length=len(uploaded[fn])))"
      ],
      "execution_count": 27,
      "outputs": [
        {
          "output_type": "display_data",
          "data": {
            "text/html": [
              "\n",
              "     <input type=\"file\" id=\"files-21cad74e-f886-4e45-b259-35d493cc1d1f\" name=\"files[]\" multiple disabled />\n",
              "     <output id=\"result-21cad74e-f886-4e45-b259-35d493cc1d1f\">\n",
              "      Upload widget is only available when the cell has been executed in the\n",
              "      current browser session. Please rerun this cell to enable.\n",
              "      </output>\n",
              "      <script src=\"/nbextensions/google.colab/files.js\"></script> "
            ],
            "text/plain": [
              "<IPython.core.display.HTML object>"
            ]
          },
          "metadata": {
            "tags": []
          }
        },
        {
          "output_type": "stream",
          "text": [
            "Saving y_train.csv to y_train.csv\n",
            "User uploaded file \"y_train.csv\" with length 37701 bytes\n"
          ],
          "name": "stdout"
        }
      ]
    },
    {
      "metadata": {
        "id": "uFaXUksyd582",
        "colab_type": "code",
        "colab": {
          "autoexec": {
            "startup": false,
            "wait_interval": 0
          }
        }
      },
      "cell_type": "code",
      "source": [
        "import pandas as pd\n",
        "import io\n",
        "y_train= pd.read_csv(io.StringIO(uploaded['y_train.csv'].decode('utf-8')))"
      ],
      "execution_count": 0,
      "outputs": []
    },
    {
      "metadata": {
        "id": "hnBeW7KUe5Hu",
        "colab_type": "code",
        "colab": {
          "autoexec": {
            "startup": false,
            "wait_interval": 0
          },
          "output_extras": [
            {
              "item_id": 1
            }
          ],
          "base_uri": "https://localhost:8080/",
          "height": 1105
        },
        "outputId": "1f7fd77e-6ce1-4a9b-e3fe-702d541e90b5",
        "executionInfo": {
          "status": "ok",
          "timestamp": 1521315732377,
          "user_tz": -330,
          "elapsed": 940,
          "user": {
            "displayName": "Rajeevkumar Yadav",
            "photoUrl": "//lh3.googleusercontent.com/-GNHZqzjwUgA/AAAAAAAAAAI/AAAAAAAAD7M/PpefmHYb0HI/s50-c-k-no/photo.jpg",
            "userId": "103793841481824356030"
          }
        }
      },
      "cell_type": "code",
      "source": [
        "print(y_train)"
      ],
      "execution_count": 29,
      "outputs": [
        {
          "output_type": "stream",
          "text": [
            "             0\n",
            "0     0.584986\n",
            "1     0.547515\n",
            "2     0.677826\n",
            "3     0.668813\n",
            "4     0.608293\n",
            "5     0.552923\n",
            "6     0.576359\n",
            "7     0.585115\n",
            "8     0.578676\n",
            "9     0.549060\n",
            "10    0.572238\n",
            "11    0.565800\n",
            "12    0.576101\n",
            "13    0.699717\n",
            "14    0.572047\n",
            "15    0.605717\n",
            "16    0.537214\n",
            "17    0.512748\n",
            "18    0.637842\n",
            "19    0.576101\n",
            "20    0.603142\n",
            "21    0.583827\n",
            "22    0.516353\n",
            "23    0.514293\n",
            "24    0.466392\n",
            "25    0.539016\n",
            "26    0.619882\n",
            "27    0.612928\n",
            "28    0.652331\n",
            "29    0.596704\n",
            "...        ...\n",
            "1864  0.599665\n",
            "1865  0.561102\n",
            "1866  0.582859\n",
            "1867  0.480814\n",
            "1868  0.610868\n",
            "1869  0.531290\n",
            "1870  0.544425\n",
            "1871  0.610095\n",
            "1872  0.465362\n",
            "1873  0.505279\n",
            "1874  0.538759\n",
            "1875  0.592841\n",
            "1876  0.650013\n",
            "1877  0.577517\n",
            "1878  0.623101\n",
            "1879  0.580288\n",
            "1880  0.470512\n",
            "1881  0.563224\n",
            "1882  0.607005\n",
            "1883  0.631471\n",
            "1884  0.608293\n",
            "1885  0.571919\n",
            "1886  0.612156\n",
            "1887  0.550348\n",
            "1888  0.479526\n",
            "1889  0.596704\n",
            "1890  0.528844\n",
            "1891  0.581962\n",
            "1892  0.592841\n",
            "1893  0.643574\n",
            "\n",
            "[1894 rows x 1 columns]\n"
          ],
          "name": "stdout"
        }
      ]
    },
    {
      "metadata": {
        "id": "aos0M_J3hOY0",
        "colab_type": "code",
        "colab": {
          "autoexec": {
            "startup": false,
            "wait_interval": 0
          }
        }
      },
      "cell_type": "code",
      "source": [
        "filter_length1 = 3\n",
        "filter_length2 = 5\n",
        "dropout = 0.5\n",
        "learning_rate = 0.001\n",
        "weights = initializers.TruncatedNormal(mean=0.0, stddev=0.1, seed=2)\n",
        "nb_filter = 16\n",
        "rnn_output_size = 128\n",
        "hidden_dims = 128\n",
        "wider = False\n",
        "deeper = True\n",
        "\n",
        "if wider == True:\n",
        "    nb_filter *= 2\n",
        "    rnn_output_size *= 2\n",
        "    hidden_dims *= 2\n",
        "\n"
      ],
      "execution_count": 0,
      "outputs": []
    },
    {
      "metadata": {
        "id": "2nVcD14jhRiV",
        "colab_type": "code",
        "colab": {
          "autoexec": {
            "startup": false,
            "wait_interval": 0
          }
        }
      },
      "cell_type": "code",
      "source": [
        "def build_model():\n",
        "    \n",
        "    model1 = Sequential()\n",
        "    \n",
        "    model1.add(Embedding(nb_words, \n",
        "                         embedding_dim,\n",
        "                         weights=[word_embedding_matrix], \n",
        "                         input_length=max_daily_length))\n",
        "    model1.add(Dropout(dropout))\n",
        "    \n",
        "    model1.add(Convolution1D(filters = nb_filter, \n",
        "                             kernel_size = filter_length1, \n",
        "                             padding = 'same',\n",
        "                            activation = 'relu'))\n",
        "    model1.add(Dropout(dropout))\n",
        "    \n",
        "    if deeper == True:\n",
        "        model1.add(Convolution1D(filters = nb_filter, \n",
        "                                 kernel_size = filter_length1, \n",
        "                                 padding = 'same',\n",
        "                                activation = 'relu'))\n",
        "        model1.add(Dropout(dropout))\n",
        "    \n",
        "    model1.add(LSTM(rnn_output_size, \n",
        "                   activation=None,\n",
        "                   kernel_initializer=weights,\n",
        "                   dropout = dropout))\n",
        "    \n",
        "    ####\n",
        "\n",
        "    model2 = Sequential()\n",
        "    \n",
        "    model2.add(Embedding(nb_words, \n",
        "                         embedding_dim,\n",
        "                         weights=[word_embedding_matrix], \n",
        "                         input_length=max_daily_length))\n",
        "    model2.add(Dropout(dropout))\n",
        "    \n",
        "    \n",
        "    model2.add(Convolution1D(filters = nb_filter, \n",
        "                             kernel_size = filter_length2, \n",
        "                             padding = 'same',\n",
        "                             activation = 'relu'))\n",
        "    model2.add(Dropout(dropout))\n",
        "    \n",
        "    if deeper == True:\n",
        "        model2.add(Convolution1D(filters = nb_filter, \n",
        "                                 kernel_size = filter_length2, \n",
        "                                 padding = 'same',\n",
        "                                 activation = 'relu'))\n",
        "        model2.add(Dropout(dropout))\n",
        "    \n",
        "    model2.add(LSTM(rnn_output_size, \n",
        "                    activation=None,\n",
        "                    kernel_initializer=weights,\n",
        "                    dropout = dropout))\n",
        "    \n",
        "    ####\n",
        "\n",
        "    model = Sequential()\n",
        "\n",
        "    model.add(Merge([model1, model2], mode='concat'))\n",
        "    \n",
        "    model.add(Dense(hidden_dims, kernel_initializer=weights))\n",
        "    model.add(Dropout(dropout))\n",
        "    \n",
        "    if deeper == True:\n",
        "        model.add(Dense(hidden_dims//2, kernel_initializer=weights))\n",
        "        model.add(Dropout(dropout))\n",
        "\n",
        "    model.add(Dense(1, \n",
        "                    kernel_initializer = weights,\n",
        "                    name='output'))\n",
        "\n",
        "    model.compile(loss='mean_squared_error',\n",
        "                  optimizer=Adam(lr=learning_rate,clipnorm=1.0))\n",
        "    return model\n"
      ],
      "execution_count": 0,
      "outputs": []
    },
    {
      "metadata": {
        "id": "hrurTAkth-LI",
        "colab_type": "code",
        "colab": {
          "autoexec": {
            "startup": false,
            "wait_interval": 0
          },
          "output_extras": [
            {
              "item_id": 1
            },
            {
              "item_id": 3
            }
          ],
          "resources": {
            "http://localhost:8080/nbextensions/google.colab/files.js": {
              "data": "Ly8gQ29weXJpZ2h0IDIwMTcgR29vZ2xlIExMQwovLwovLyBMaWNlbnNlZCB1bmRlciB0aGUgQXBhY2hlIExpY2Vuc2UsIFZlcnNpb24gMi4wICh0aGUgIkxpY2Vuc2UiKTsKLy8geW91IG1heSBub3QgdXNlIHRoaXMgZmlsZSBleGNlcHQgaW4gY29tcGxpYW5jZSB3aXRoIHRoZSBMaWNlbnNlLgovLyBZb3UgbWF5IG9idGFpbiBhIGNvcHkgb2YgdGhlIExpY2Vuc2UgYXQKLy8KLy8gICAgICBodHRwOi8vd3d3LmFwYWNoZS5vcmcvbGljZW5zZXMvTElDRU5TRS0yLjAKLy8KLy8gVW5sZXNzIHJlcXVpcmVkIGJ5IGFwcGxpY2FibGUgbGF3IG9yIGFncmVlZCB0byBpbiB3cml0aW5nLCBzb2Z0d2FyZQovLyBkaXN0cmlidXRlZCB1bmRlciB0aGUgTGljZW5zZSBpcyBkaXN0cmlidXRlZCBvbiBhbiAiQVMgSVMiIEJBU0lTLAovLyBXSVRIT1VUIFdBUlJBTlRJRVMgT1IgQ09ORElUSU9OUyBPRiBBTlkgS0lORCwgZWl0aGVyIGV4cHJlc3Mgb3IgaW1wbGllZC4KLy8gU2VlIHRoZSBMaWNlbnNlIGZvciB0aGUgc3BlY2lmaWMgbGFuZ3VhZ2UgZ292ZXJuaW5nIHBlcm1pc3Npb25zIGFuZAovLyBsaW1pdGF0aW9ucyB1bmRlciB0aGUgTGljZW5zZS4KCi8qKgogKiBAZmlsZW92ZXJ2aWV3IEhlbHBlcnMgZm9yIGdvb2dsZS5jb2xhYiBQeXRob24gbW9kdWxlLgogKi8KKGZ1bmN0aW9uKHNjb3BlKSB7CmZ1bmN0aW9uIHNwYW4odGV4dCwgc3R5bGVBdHRyaWJ1dGVzID0ge30pIHsKICBjb25zdCBlbGVtZW50ID0gZG9jdW1lbnQuY3JlYXRlRWxlbWVudCgnc3BhbicpOwogIGVsZW1lbnQudGV4dENvbnRlbnQgPSB0ZXh0OwogIGZvciAoY29uc3Qga2V5IG9mIE9iamVjdC5rZXlzKHN0eWxlQXR0cmlidXRlcykpIHsKICAgIGVsZW1lbnQuc3R5bGVba2V5XSA9IHN0eWxlQXR0cmlidXRlc1trZXldOwogIH0KICByZXR1cm4gZWxlbWVudDsKfQoKLy8gTWF4IG51bWJlciBvZiBieXRlcyB3aGljaCB3aWxsIGJlIHVwbG9hZGVkIGF0IGEgdGltZS4KY29uc3QgTUFYX1BBWUxPQURfU0laRSA9IDEwMCAqIDEwMjQ7Ci8vIE1heCBhbW91bnQgb2YgdGltZSB0byBibG9jayB3YWl0aW5nIGZvciB0aGUgdXNlci4KY29uc3QgRklMRV9DSEFOR0VfVElNRU9VVF9NUyA9IDMwICogMTAwMDsKCmZ1bmN0aW9uIF91cGxvYWRGaWxlcyhpbnB1dElkLCBvdXRwdXRJZCkgewogIGNvbnN0IHN0ZXBzID0gdXBsb2FkRmlsZXNTdGVwKGlucHV0SWQsIG91dHB1dElkKTsKICBjb25zdCBvdXRwdXRFbGVtZW50ID0gZG9jdW1lbnQuZ2V0RWxlbWVudEJ5SWQob3V0cHV0SWQpOwogIC8vIENhY2hlIHN0ZXBzIG9uIHRoZSBvdXRwdXRFbGVtZW50IHRvIG1ha2UgaXQgYXZhaWxhYmxlIGZvciB0aGUgbmV4dCBjYWxsCiAgLy8gdG8gdXBsb2FkRmlsZXNDb250aW51ZSBmcm9tIFB5dGhvbi4KICBvdXRwdXRFbGVtZW50LnN0ZXBzID0gc3RlcHM7CgogIHJldHVybiBfdXBsb2FkRmlsZXNDb250aW51ZShvdXRwdXRJZCk7Cn0KCi8vIFRoaXMgaXMgcm91Z2hseSBhbiBhc3luYyBnZW5lcmF0b3IgKG5vdCBzdXBwb3J0ZWQgaW4gdGhlIGJyb3dzZXIgeWV0KSwKLy8gd2hlcmUgdGhlcmUgYXJlIG11bHRpcGxlIGFzeW5jaHJvbm91cyBzdGVwcyBhbmQgdGhlIFB5dGhvbiBzaWRlIGlzIGdvaW5nCi8vIHRvIHBvbGwgZm9yIGNvbXBsZXRpb24gb2YgZWFjaCBzdGVwLgovLyBUaGlzIHVzZXMgYSBQcm9taXNlIHRvIGJsb2NrIHRoZSBweXRob24gc2lkZSBvbiBjb21wbGV0aW9uIG9mIGVhY2ggc3RlcCwKLy8gdGhlbiBwYXNzZXMgdGhlIHJlc3VsdCBvZiB0aGUgcHJldmlvdXMgc3RlcCBhcyB0aGUgaW5wdXQgdG8gdGhlIG5leHQgc3RlcC4KZnVuY3Rpb24gX3VwbG9hZEZpbGVzQ29udGludWUob3V0cHV0SWQpIHsKICBjb25zdCBvdXRwdXRFbGVtZW50ID0gZG9jdW1lbnQuZ2V0RWxlbWVudEJ5SWQob3V0cHV0SWQpOwogIGNvbnN0IHN0ZXBzID0gb3V0cHV0RWxlbWVudC5zdGVwczsKCiAgY29uc3QgbmV4dCA9IHN0ZXBzLm5leHQob3V0cHV0RWxlbWVudC5sYXN0UHJvbWlzZVZhbHVlKTsKICByZXR1cm4gUHJvbWlzZS5yZXNvbHZlKG5leHQudmFsdWUucHJvbWlzZSkudGhlbigodmFsdWUpID0+IHsKICAgIC8vIENhY2hlIHRoZSBsYXN0IHByb21pc2UgdmFsdWUgdG8gbWFrZSBpdCBhdmFpbGFibGUgdG8gdGhlIG5leHQKICAgIC8vIHN0ZXAgb2YgdGhlIGdlbmVyYXRvci4KICAgIG91dHB1dEVsZW1lbnQubGFzdFByb21pc2VWYWx1ZSA9IHZhbHVlOwogICAgcmV0dXJuIG5leHQudmFsdWUucmVzcG9uc2U7CiAgfSk7Cn0KCi8qKgogKiBHZW5lcmF0b3IgZnVuY3Rpb24gd2hpY2ggaXMgY2FsbGVkIGJldHdlZW4gZWFjaCBhc3luYyBzdGVwIG9mIHRoZSB1cGxvYWQKICogcHJvY2Vzcy4KICogQHBhcmFtIHtzdHJpbmd9IGlucHV0SWQgRWxlbWVudCBJRCBvZiB0aGUgaW5wdXQgZmlsZSBwaWNrZXIgZWxlbWVudC4KICogQHBhcmFtIHtzdHJpbmd9IG91dHB1dElkIEVsZW1lbnQgSUQgb2YgdGhlIG91dHB1dCBkaXNwbGF5LgogKiBAcmV0dXJuIHshSXRlcmFibGU8IU9iamVjdD59IEl0ZXJhYmxlIG9mIG5leHQgc3RlcHMuCiAqLwpmdW5jdGlvbiogdXBsb2FkRmlsZXNTdGVwKGlucHV0SWQsIG91dHB1dElkKSB7CiAgY29uc3QgaW5wdXRFbGVtZW50ID0gZG9jdW1lbnQuZ2V0RWxlbWVudEJ5SWQoaW5wdXRJZCk7CiAgaW5wdXRFbGVtZW50LmRpc2FibGVkID0gZmFsc2U7CgogIGNvbnN0IG91dHB1dEVsZW1lbnQgPSBkb2N1bWVudC5nZXRFbGVtZW50QnlJZChvdXRwdXRJZCk7CiAgb3V0cHV0RWxlbWVudC5pbm5lckhUTUwgPSAnJzsKCiAgY29uc3QgcGlja2VkUHJvbWlzZSA9IG5ldyBQcm9taXNlKChyZXNvbHZlKSA9PiB7CiAgICBpbnB1dEVsZW1lbnQuYWRkRXZlbnRMaXN0ZW5lcignY2hhbmdlJywgKGUpID0+IHsKICAgICAgcmVzb2x2ZShlLnRhcmdldC5maWxlcyk7CiAgICB9KTsKICB9KTsKCiAgY29uc3QgY2FuY2VsID0gZG9jdW1lbnQuY3JlYXRlRWxlbWVudCgnYnV0dG9uJyk7CiAgaW5wdXRFbGVtZW50LnBhcmVudEVsZW1lbnQuYXBwZW5kQ2hpbGQoY2FuY2VsKTsKICBjYW5jZWwudGV4dENvbnRlbnQgPSAnQ2FuY2VsIHVwbG9hZCc7CiAgY29uc3QgY2FuY2VsUHJvbWlzZSA9IG5ldyBQcm9taXNlKChyZXNvbHZlKSA9PiB7CiAgICBjYW5jZWwub25jbGljayA9ICgpID0+IHsKICAgICAgcmVzb2x2ZShudWxsKTsKICAgIH07CiAgfSk7CgogIC8vIENhbmNlbCB1cGxvYWQgaWYgdXNlciBoYXNuJ3QgcGlja2VkIGFueXRoaW5nIGluIHRpbWVvdXQuCiAgY29uc3QgdGltZW91dFByb21pc2UgPSBuZXcgUHJvbWlzZSgocmVzb2x2ZSkgPT4gewogICAgc2V0VGltZW91dCgoKSA9PiB7CiAgICAgIHJlc29sdmUobnVsbCk7CiAgICB9LCBGSUxFX0NIQU5HRV9USU1FT1VUX01TKTsKICB9KTsKCiAgLy8gV2FpdCBmb3IgdGhlIHVzZXIgdG8gcGljayB0aGUgZmlsZXMuCiAgY29uc3QgZmlsZXMgPSB5aWVsZCB7CiAgICBwcm9taXNlOiBQcm9taXNlLnJhY2UoW3BpY2tlZFByb21pc2UsIHRpbWVvdXRQcm9taXNlLCBjYW5jZWxQcm9taXNlXSksCiAgICByZXNwb25zZTogewogICAgICBhY3Rpb246ICdzdGFydGluZycsCiAgICB9CiAgfTsKCiAgaWYgKCFmaWxlcykgewogICAgcmV0dXJuIHsKICAgICAgcmVzcG9uc2U6IHsKICAgICAgICBhY3Rpb246ICdjb21wbGV0ZScsCiAgICAgIH0KICAgIH07CiAgfQoKICBjYW5jZWwucmVtb3ZlKCk7CgogIC8vIERpc2FibGUgdGhlIGlucHV0IGVsZW1lbnQgc2luY2UgZnVydGhlciBwaWNrcyBhcmUgbm90IGFsbG93ZWQuCiAgaW5wdXRFbGVtZW50LmRpc2FibGVkID0gdHJ1ZTsKCiAgZm9yIChjb25zdCBmaWxlIG9mIGZpbGVzKSB7CiAgICBjb25zdCBsaSA9IGRvY3VtZW50LmNyZWF0ZUVsZW1lbnQoJ2xpJyk7CiAgICBsaS5hcHBlbmQoc3BhbihmaWxlLm5hbWUsIHtmb250V2VpZ2h0OiAnYm9sZCd9KSk7CiAgICBsaS5hcHBlbmQoc3BhbigKICAgICAgICBgKCR7ZmlsZS50eXBlIHx8ICduL2EnfSkgLSAke2ZpbGUuc2l6ZX0gYnl0ZXMsIGAgKwogICAgICAgIGBsYXN0IG1vZGlmaWVkOiAkewogICAgICAgICAgICBmaWxlLmxhc3RNb2RpZmllZERhdGUgPyBmaWxlLmxhc3RNb2RpZmllZERhdGUudG9Mb2NhbGVEYXRlU3RyaW5nKCkgOgogICAgICAgICAgICAgICAgICAgICAgICAgICAgICAgICAgICAnbi9hJ30gLSBgKSk7CiAgICBjb25zdCBwZXJjZW50ID0gc3BhbignMCUgZG9uZScpOwogICAgbGkuYXBwZW5kQ2hpbGQocGVyY2VudCk7CgogICAgb3V0cHV0RWxlbWVudC5hcHBlbmRDaGlsZChsaSk7CgogICAgY29uc3QgZmlsZURhdGFQcm9taXNlID0gbmV3IFByb21pc2UoKHJlc29sdmUpID0+IHsKICAgICAgY29uc3QgcmVhZGVyID0gbmV3IEZpbGVSZWFkZXIoKTsKICAgICAgcmVhZGVyLm9ubG9hZCA9IChlKSA9PiB7CiAgICAgICAgcmVzb2x2ZShlLnRhcmdldC5yZXN1bHQpOwogICAgICB9OwogICAgICByZWFkZXIucmVhZEFzQXJyYXlCdWZmZXIoZmlsZSk7CiAgICB9KTsKICAgIC8vIFdhaXQgZm9yIHRoZSBkYXRhIHRvIGJlIHJlYWR5LgogICAgbGV0IGZpbGVEYXRhID0geWllbGQgewogICAgICBwcm9taXNlOiBmaWxlRGF0YVByb21pc2UsCiAgICAgIHJlc3BvbnNlOiB7CiAgICAgICAgYWN0aW9uOiAnY29udGludWUnLAogICAgICB9CiAgICB9OwoKICAgIC8vIFVzZSBhIGNodW5rZWQgc2VuZGluZyB0byBhdm9pZCBtZXNzYWdlIHNpemUgbGltaXRzLiBTZWUgYi82MjExNTY2MC4KICAgIGxldCBwb3NpdGlvbiA9IDA7CiAgICB3aGlsZSAocG9zaXRpb24gPCBmaWxlRGF0YS5ieXRlTGVuZ3RoKSB7CiAgICAgIGNvbnN0IGxlbmd0aCA9IE1hdGgubWluKGZpbGVEYXRhLmJ5dGVMZW5ndGggLSBwb3NpdGlvbiwgTUFYX1BBWUxPQURfU0laRSk7CiAgICAgIGNvbnN0IGNodW5rID0gbmV3IFVpbnQ4QXJyYXkoZmlsZURhdGEsIHBvc2l0aW9uLCBsZW5ndGgpOwogICAgICBwb3NpdGlvbiArPSBsZW5ndGg7CgogICAgICBjb25zdCBiYXNlNjQgPSBidG9hKFN0cmluZy5mcm9tQ2hhckNvZGUuYXBwbHkobnVsbCwgY2h1bmspKTsKICAgICAgeWllbGQgewogICAgICAgIHJlc3BvbnNlOiB7CiAgICAgICAgICBhY3Rpb246ICdhcHBlbmQnLAogICAgICAgICAgZmlsZTogZmlsZS5uYW1lLAogICAgICAgICAgZGF0YTogYmFzZTY0LAogICAgICAgIH0sCiAgICAgIH07CiAgICAgIHBlcmNlbnQudGV4dENvbnRlbnQgPQogICAgICAgICAgYCR7TWF0aC5yb3VuZCgocG9zaXRpb24gLyBmaWxlRGF0YS5ieXRlTGVuZ3RoKSAqIDEwMCl9JSBkb25lYDsKICAgIH0KICB9CgogIC8vIEFsbCBkb25lLgogIHlpZWxkIHsKICAgIHJlc3BvbnNlOiB7CiAgICAgIGFjdGlvbjogJ2NvbXBsZXRlJywKICAgIH0KICB9Owp9CgpzY29wZS5nb29nbGUgPSBzY29wZS5nb29nbGUgfHwge307CnNjb3BlLmdvb2dsZS5jb2xhYiA9IHNjb3BlLmdvb2dsZS5jb2xhYiB8fCB7fTsKc2NvcGUuZ29vZ2xlLmNvbGFiLl9maWxlcyA9IHsKICBfdXBsb2FkRmlsZXMsCiAgX3VwbG9hZEZpbGVzQ29udGludWUsCn07Cn0pKHNlbGYpOwo=",
              "ok": true,
              "headers": [
                [
                  "content-type",
                  "application/javascript"
                ]
              ],
              "status": 200,
              "status_text": ""
            }
          },
          "base_uri": "https://localhost:8080/",
          "height": 126
        },
        "outputId": "eeb8fb53-12ff-4fd5-856c-bf09755bb339",
        "executionInfo": {
          "status": "ok",
          "timestamp": 1521317214952,
          "user_tz": -330,
          "elapsed": 498876,
          "user": {
            "displayName": "Rajeevkumar Yadav",
            "photoUrl": "//lh3.googleusercontent.com/-GNHZqzjwUgA/AAAAAAAAAAI/AAAAAAAAD7M/PpefmHYb0HI/s50-c-k-no/photo.jpg",
            "userId": "103793841481824356030"
          }
        }
      },
      "cell_type": "code",
      "source": [
        "from google.colab import files\n",
        "\n",
        "uploaded = files.upload()\n",
        "\n",
        "for fn in uploaded.keys():\n",
        "  print('User uploaded file \"{name}\" with length {length} bytes'.format(\n",
        "      name=fn, length=len(uploaded[fn])))"
      ],
      "execution_count": 38,
      "outputs": [
        {
          "output_type": "display_data",
          "data": {
            "text/html": [
              "\n",
              "     <input type=\"file\" id=\"files-e10d7d84-c3ed-4d64-acac-1617c7b55aef\" name=\"files[]\" multiple disabled />\n",
              "     <output id=\"result-e10d7d84-c3ed-4d64-acac-1617c7b55aef\">\n",
              "      Upload widget is only available when the cell has been executed in the\n",
              "      current browser session. Please rerun this cell to enable.\n",
              "      </output>\n",
              "      <script src=\"/nbextensions/google.colab/files.js\"></script> "
            ],
            "text/plain": [
              "<IPython.core.display.HTML object>"
            ]
          },
          "metadata": {
            "tags": []
          }
        },
        {
          "output_type": "stream",
          "text": [
            "Saving question_pairs_weights_deeper=True_wider=False_lr=0.001_dropout=0.5.h5 to question_pairs_weights_deeper=True_wider=False_lr=0.001_dropout=0.5.h5\n",
            "User uploaded file \"question_pairs_weights_deeper=True_wider=False_lr=0.001_dropout=0.5.h5\" with length 30728920 bytes\n"
          ],
          "name": "stdout"
        }
      ]
    },
    {
      "metadata": {
        "id": "py9BMb3pmwEK",
        "colab_type": "code",
        "colab": {
          "autoexec": {
            "startup": false,
            "wait_interval": 0
          },
          "output_extras": [
            {
              "item_id": 1
            }
          ],
          "base_uri": "https://localhost:8080/",
          "height": 170
        },
        "outputId": "ee9e412c-3e54-4233-811b-7a1701f0e210",
        "executionInfo": {
          "status": "ok",
          "timestamp": 1521317781299,
          "user_tz": -330,
          "elapsed": 1977,
          "user": {
            "displayName": "Rajeevkumar Yadav",
            "photoUrl": "//lh3.googleusercontent.com/-GNHZqzjwUgA/AAAAAAAAAAI/AAAAAAAAD7M/PpefmHYb0HI/s50-c-k-no/photo.jpg",
            "userId": "103793841481824356030"
          }
        }
      },
      "cell_type": "code",
      "source": [
        "ls\n"
      ],
      "execution_count": 39,
      "outputs": [
        {
          "output_type": "stream",
          "text": [
            "\u001b[0m\u001b[01;34mdatalab\u001b[0m/\r\n",
            "question_pairs_weights_deeper=True_wider=False_lr=0.001_dropout=0.5.h5\r\n",
            "word_embedding_matrix (1).csv\r\n",
            "word_embedding_matrix.csv\r\n",
            "x_test.csv\r\n",
            "x_train.csv\r\n",
            "y_test (1).csv\r\n",
            "y_test.csv\r\n",
            "y_train.csv\r\n"
          ],
          "name": "stdout"
        }
      ]
    },
    {
      "metadata": {
        "id": "n_ZLBcUGhego",
        "colab_type": "code",
        "colab": {
          "autoexec": {
            "startup": false,
            "wait_interval": 0
          },
          "output_extras": [
            {
              "item_id": 1
            },
            {
              "item_id": 5
            }
          ],
          "base_uri": "https://localhost:8080/",
          "height": 88
        },
        "outputId": "958847f3-3e6b-4968-bcec-943e4a7acb7e",
        "executionInfo": {
          "status": "ok",
          "timestamp": 1521317830512,
          "user_tz": -330,
          "elapsed": 3295,
          "user": {
            "displayName": "Rajeevkumar Yadav",
            "photoUrl": "//lh3.googleusercontent.com/-GNHZqzjwUgA/AAAAAAAAAAI/AAAAAAAAD7M/PpefmHYb0HI/s50-c-k-no/photo.jpg",
            "userId": "103793841481824356030"
          }
        }
      },
      "cell_type": "code",
      "source": [
        "# Make predictions with the best weights\n",
        "deeper=True\n",
        "wider=False\n",
        "dropout=0.5\n",
        "learning_Rate = 0.001\n",
        "# Need to rebuild model in case it is different from the model that was trained most recently.\n",
        "model = build_model()\n",
        "\n",
        "model.load_weights('question_pairs_weights_deeper={}_wider={}_lr={}_dropout={}.h5'.format(\n",
        "                    deeper,wider,learning_rate,dropout))\n",
        "predictions = model.predict([x_test,x_test], verbose = True)\n",
        "\n",
        "\n",
        "# In[313]:\n",
        "\n",
        "# Compare testing loss to training and validating loss\n",
        "print(\"mse \"+str(mse(y_test, predictions)))\n",
        "\n",
        "\n",
        "max_price=82.7999880000001\n",
        "min_price=-111.34997599999997\n",
        "# In[314]:\n",
        "\n",
        "rk=y_test.values\n"
      ],
      "execution_count": 40,
      "outputs": [
        {
          "output_type": "stream",
          "text": [
            "/usr/local/lib/python3.6/dist-packages/ipykernel_launcher.py:62: UserWarning: The `Merge` layer is deprecated and will be removed after 08/2017. Use instead layers from `keras.layers.merge`, e.g. `add`, `concatenate`, etc.\n"
          ],
          "name": "stderr"
        },
        {
          "output_type": "stream",
          "text": [
            "335/335 [==============================] - 1s 3ms/step\n",
            "mse 0.007035637306683075\n"
          ],
          "name": "stdout"
        }
      ]
    },
    {
      "metadata": {
        "id": "_qFghxkbnA4B",
        "colab_type": "code",
        "colab": {
          "autoexec": {
            "startup": false,
            "wait_interval": 0
          },
          "output_extras": [
            {
              "item_id": 1
            },
            {
              "item_id": 3
            }
          ],
          "resources": {
            "http://localhost:8080/nbextensions/google.colab/files.js": {
              "data": "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",
              "ok": true,
              "headers": [
                [
                  "content-type",
                  "application/javascript"
                ]
              ],
              "status": 200,
              "status_text": ""
            }
          },
          "base_uri": "https://localhost:8080/",
          "height": 89
        },
        "outputId": "417a0550-c0b3-4fe2-f300-2859f57c0e59",
        "executionInfo": {
          "status": "ok",
          "timestamp": 1521317925889,
          "user_tz": -330,
          "elapsed": 24665,
          "user": {
            "displayName": "Rajeevkumar Yadav",
            "photoUrl": "//lh3.googleusercontent.com/-GNHZqzjwUgA/AAAAAAAAAAI/AAAAAAAAD7M/PpefmHYb0HI/s50-c-k-no/photo.jpg",
            "userId": "103793841481824356030"
          }
        }
      },
      "cell_type": "code",
      "source": [
        "from google.colab import files\n",
        "\n",
        "uploaded = files.upload()\n",
        "\n",
        "for fn in uploaded.keys():\n",
        "  print('User uploaded file \"{name}\" with length {length} bytes'.format(\n",
        "      name=fn, length=len(uploaded[fn])))"
      ],
      "execution_count": 41,
      "outputs": [
        {
          "output_type": "display_data",
          "data": {
            "text/html": [
              "\n",
              "     <input type=\"file\" id=\"files-e264f253-852a-4332-96a7-ca7357b598e1\" name=\"files[]\" multiple disabled />\n",
              "     <output id=\"result-e264f253-852a-4332-96a7-ca7357b598e1\">\n",
              "      Upload widget is only available when the cell has been executed in the\n",
              "      current browser session. Please rerun this cell to enable.\n",
              "      </output>\n",
              "      <script src=\"/nbextensions/google.colab/files.js\"></script> "
            ],
            "text/plain": [
              "<IPython.core.display.HTML object>"
            ]
          },
          "metadata": {
            "tags": []
          }
        },
        {
          "output_type": "stream",
          "text": [
            "Saving preds.csv to preds.csv\n",
            "User uploaded file \"preds.csv\" with length 6354 bytes\n"
          ],
          "name": "stdout"
        }
      ]
    },
    {
      "metadata": {
        "id": "eHWM-GOAnYHF",
        "colab_type": "code",
        "colab": {
          "autoexec": {
            "startup": false,
            "wait_interval": 0
          }
        }
      },
      "cell_type": "code",
      "source": [
        "import pandas as pd\n",
        "import io\n",
        "normpreds= pd.read_csv(io.StringIO(uploaded['preds.csv'].decode('utf-8')))"
      ],
      "execution_count": 0,
      "outputs": []
    },
    {
      "metadata": {
        "id": "1CwaaYFen3rv",
        "colab_type": "code",
        "colab": {
          "autoexec": {
            "startup": false,
            "wait_interval": 0
          },
          "output_extras": [
            {
              "item_id": 1
            }
          ],
          "base_uri": "https://localhost:8080/",
          "height": 1105
        },
        "outputId": "26556717-1ab8-44f8-e487-4228ee65ea39",
        "executionInfo": {
          "status": "ok",
          "timestamp": 1521318088729,
          "user_tz": -330,
          "elapsed": 965,
          "user": {
            "displayName": "Rajeevkumar Yadav",
            "photoUrl": "//lh3.googleusercontent.com/-GNHZqzjwUgA/AAAAAAAAAAI/AAAAAAAAD7M/PpefmHYb0HI/s50-c-k-no/photo.jpg",
            "userId": "103793841481824356030"
          }
        }
      },
      "cell_type": "code",
      "source": [
        "print(normpreds)"
      ],
      "execution_count": 44,
      "outputs": [
        {
          "output_type": "stream",
          "text": [
            "     0.096498150425075\n",
            "0             0.630098\n",
            "1             0.560680\n",
            "2             0.548926\n",
            "3             0.563868\n",
            "4             0.668331\n",
            "5             0.690033\n",
            "6             0.713262\n",
            "7             0.670186\n",
            "8             0.611037\n",
            "9             0.565045\n",
            "10            0.541207\n",
            "11            0.677907\n",
            "12            0.672143\n",
            "13            0.675726\n",
            "14            0.761730\n",
            "15            0.593461\n",
            "16            0.660833\n",
            "17            0.666099\n",
            "18            0.630691\n",
            "19            0.617146\n",
            "20            0.683485\n",
            "21            0.544417\n",
            "22            0.729054\n",
            "23            0.561244\n",
            "24            0.629402\n",
            "25            0.662636\n",
            "26            0.606493\n",
            "27            0.548154\n",
            "28            0.506279\n",
            "29            0.464173\n",
            "..                 ...\n",
            "305           0.571849\n",
            "306           0.580047\n",
            "307           0.551341\n",
            "308           0.527330\n",
            "309           0.444262\n",
            "310           0.522614\n",
            "311           0.576977\n",
            "312           0.583607\n",
            "313           0.590628\n",
            "314           0.547567\n",
            "315           0.667988\n",
            "316           0.566527\n",
            "317           0.512236\n",
            "318           0.556916\n",
            "319           0.362052\n",
            "320           0.714509\n",
            "321           0.575324\n",
            "322           0.636528\n",
            "323           0.647367\n",
            "324           0.594676\n",
            "325           0.565044\n",
            "326           0.560796\n",
            "327           0.603557\n",
            "328           0.712999\n",
            "329           0.594525\n",
            "330           0.575202\n",
            "331           0.670673\n",
            "332           0.699360\n",
            "333           0.517285\n",
            "334           0.591943\n",
            "\n",
            "[335 rows x 1 columns]\n"
          ],
          "name": "stdout"
        }
      ]
    },
    {
      "metadata": {
        "id": "olJNhZvln-UA",
        "colab_type": "code",
        "colab": {
          "autoexec": {
            "startup": false,
            "wait_interval": 0
          }
        }
      },
      "cell_type": "code",
      "source": [
        "unnorm_preds=normpreds.values\n",
        "\n",
        "\n",
        "def unnormalize(price):\n",
        "    price = price*(max_price-min_price)+min_price\n",
        "    return(price)\n",
        "\n"
      ],
      "execution_count": 0,
      "outputs": []
    },
    {
      "metadata": {
        "id": "-nIHW_XEoG3X",
        "colab_type": "code",
        "colab": {
          "autoexec": {
            "startup": false,
            "wait_interval": 0
          }
        }
      },
      "cell_type": "code",
      "source": [
        "unnorm_predictions = []\n",
        "for pred in unnorm_preds:\n",
        "    unnorm_predictions.append(unnormalize(pred))\n",
        "  \n",
        "\n",
        "unnorm_y_test = []\n",
        "for y in rk:\n",
        "    unnorm_y_test.append(unnormalize(y))\n",
        "\n"
      ],
      "execution_count": 0,
      "outputs": []
    },
    {
      "metadata": {
        "id": "WxnW4i6joWHs",
        "colab_type": "code",
        "colab": {
          "autoexec": {
            "startup": false,
            "wait_interval": 0
          },
          "output_extras": [
            {
              "item_id": 1
            }
          ],
          "base_uri": "https://localhost:8080/",
          "height": 34
        },
        "outputId": "d41897f3-15a2-4977-aa51-b658df0425fb",
        "executionInfo": {
          "status": "ok",
          "timestamp": 1521318196291,
          "user_tz": -330,
          "elapsed": 934,
          "user": {
            "displayName": "Rajeevkumar Yadav",
            "photoUrl": "//lh3.googleusercontent.com/-GNHZqzjwUgA/AAAAAAAAAAI/AAAAAAAAD7M/PpefmHYb0HI/s50-c-k-no/photo.jpg",
            "userId": "103793841481824356030"
          }
        }
      },
      "cell_type": "code",
      "source": [
        "# Calculate the median absolute error for the predictions\n",
        "print(\"mae \"+str(mae(unnorm_y_test, unnorm_predictions)))\n"
      ],
      "execution_count": 47,
      "outputs": [
        {
          "output_type": "stream",
          "text": [
            "mae 6.748559931777692\n"
          ],
          "name": "stdout"
        }
      ]
    },
    {
      "metadata": {
        "id": "afjYGQ0BocBK",
        "colab_type": "code",
        "colab": {
          "autoexec": {
            "startup": false,
            "wait_interval": 0
          },
          "output_extras": [
            {
              "item_id": 1
            },
            {
              "item_id": 2
            }
          ],
          "base_uri": "https://localhost:8080/",
          "height": 726
        },
        "outputId": "69852db9-efed-4690-a2db-bf8fd4375e20",
        "executionInfo": {
          "status": "ok",
          "timestamp": 1521318264926,
          "user_tz": -330,
          "elapsed": 1787,
          "user": {
            "displayName": "Rajeevkumar Yadav",
            "photoUrl": "//lh3.googleusercontent.com/-GNHZqzjwUgA/AAAAAAAAAAI/AAAAAAAAD7M/PpefmHYb0HI/s50-c-k-no/photo.jpg",
            "userId": "103793841481824356030"
          }
        }
      },
      "cell_type": "code",
      "source": [
        "# In[362]:\n",
        "\n",
        "print(\"Summary of actual opening price changes\")\n",
        "print(pd.DataFrame(unnorm_y_test, columns=[\"\"]).describe())\n",
        "print()\n",
        "print(\"Summary of predicted opening price changes\")\n",
        "print(pd.DataFrame(unnorm_predictions, columns=[\"\"]).describe())\n",
        "\n",
        "plt.figure(figsize=(15,5))\n",
        "plt.plot(unnorm_predictions)\n",
        "plt.plot(unnorm_y_test)\n",
        "plt.title(\"Predicted vs Actual Opening Price Changes\")\n",
        "plt.xlabel(\"Testing instances\")\n",
        "plt.ylabel(\"Change in Opening Price\")\n",
        "plt.show()"
      ],
      "execution_count": 49,
      "outputs": [
        {
          "output_type": "stream",
          "text": [
            "Summary of actual opening price changes\n",
            "                 \n",
            "count  335.000000\n",
            "mean    -0.677940\n",
            "std     16.290991\n",
            "min    -98.849976\n",
            "25%     -6.250000\n",
            "50%     -0.349976\n",
            "75%      7.237488\n",
            "max     54.099976\n",
            "\n",
            "Summary of predicted opening price changes\n",
            "                 \n",
            "count  335.000000\n",
            "mean    -1.824461\n",
            "std     17.026072\n",
            "min   -101.303387\n",
            "25%     -8.835338\n",
            "50%     -1.561763\n",
            "75%      6.503575\n",
            "max     51.574767\n"
          ],
          "name": "stdout"
        },
        {
          "output_type": "display_data",
          "data": {
            "image/png": "[encoded data removed]",
            "text/plain": [
              "<matplotlib.figure.Figure at 0x7f0366ae12b0>"
            ]
          },
          "metadata": {
            "tags": []
          }
        }
      ]
    }
  ]
}